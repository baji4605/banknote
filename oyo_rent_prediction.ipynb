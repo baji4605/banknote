{
  "nbformat": 4,
  "nbformat_minor": 0,
  "metadata": {
    "colab": {
      "provenance": []
    },
    "kernelspec": {
      "name": "python3",
      "display_name": "Python 3"
    },
    "language_info": {
      "name": "python"
    }
  },
  "cells": [
    {
      "cell_type": "code",
      "execution_count": null,
      "metadata": {
        "id": "xkRx-ZbwtFra"
      },
      "outputs": [],
      "source": [
        "import pandas as pd\n",
        "import numpy as np\n",
        "import matplotlib.pyplot as plt\n",
        "import seaborn as sns"
      ]
    },
    {
      "cell_type": "code",
      "source": [
        "df = pd.read_csv('/content/rating_features.csv')\n",
        "df_price = pd.read_csv('/content/rental_price.csv')"
      ],
      "metadata": {
        "id": "cryBrR37uYG-"
      },
      "execution_count": null,
      "outputs": []
    },
    {
      "cell_type": "code",
      "source": [
        "df.head()"
      ],
      "metadata": {
        "colab": {
          "base_uri": "https://localhost:8080/",
          "height": 403
        },
        "id": "pRdODrqbutX-",
        "outputId": "0a2f0162-9988-43f6-9c6d-473cab1b6023"
      },
      "execution_count": null,
      "outputs": [
        {
          "output_type": "execute_result",
          "data": {
            "text/plain": [
              "   accommodates                                          amenities  \\\n",
              "0             6  {\"Cable TV\",Internet,\"Wireless Internet\",\"Air ...   \n",
              "1             2  {\"Air Conditioning\",Heating,\"Family/Kid Friend...   \n",
              "2             2  {TV,\"Cable TV\",Internet,\"Wireless Internet\",\"A...   \n",
              "3             2  {TV,\"Cable TV\",Internet,\"Wireless Internet\",\"A...   \n",
              "4             6  {TV,\"Cable TV\",Internet,\"Wireless Internet\",\"A...   \n",
              "\n",
              "   availability_30  bathrooms  bed_type  bedrooms  beds  \\\n",
              "0                0        2.5  Real Bed       1.0   3.0   \n",
              "1               29        0.0     Futon       1.0   1.0   \n",
              "2               30        1.5  Real Bed       1.0   1.0   \n",
              "3               30        1.5  Real Bed       1.0   1.0   \n",
              "4               27        2.0  Real Bed       3.0   3.0   \n",
              "\n",
              "   calculated_host_listings_count cancellation_policy  guests_included  ...  \\\n",
              "0                               1            moderate                1  ...   \n",
              "1                               1            moderate                1  ...   \n",
              "2                               2            flexible                1  ...   \n",
              "3                               2            flexible                1  ...   \n",
              "4                               2              strict                1  ...   \n",
              "\n",
              "  longitude(East) maximum_nights  number_of_reviews property_type  \\\n",
              "0      114.059600             10                  1         House   \n",
              "1      114.043225              7                  0     Camper/RV   \n",
              "2      114.079426           1125                  0         House   \n",
              "3      114.079035           1125                  0         House   \n",
              "4      114.055590           1125                  0         House   \n",
              "\n",
              "   review_scores_checkin  review_scores_communication  review_scores_location  \\\n",
              "0                   10.0                         10.0                    10.0   \n",
              "1                    NaN                          NaN                     NaN   \n",
              "2                    NaN                          NaN                     NaN   \n",
              "3                    NaN                          NaN                     NaN   \n",
              "4                    NaN                          NaN                     NaN   \n",
              "\n",
              "   review_scores_rating review_scores_value        room_type  \n",
              "0                 100.0                10.0     Private room  \n",
              "1                   NaN                 NaN     Private room  \n",
              "2                   NaN                 NaN     Private room  \n",
              "3                   NaN                 NaN     Private room  \n",
              "4                   NaN                 NaN  Entire home/apt  \n",
              "\n",
              "[5 rows x 25 columns]"
            ],
            "text/html": [
              "\n",
              "  <div id=\"df-ebd4e950-e94f-443c-a3b7-68bf63c3a9af\">\n",
              "    <div class=\"colab-df-container\">\n",
              "      <div>\n",
              "<style scoped>\n",
              "    .dataframe tbody tr th:only-of-type {\n",
              "        vertical-align: middle;\n",
              "    }\n",
              "\n",
              "    .dataframe tbody tr th {\n",
              "        vertical-align: top;\n",
              "    }\n",
              "\n",
              "    .dataframe thead th {\n",
              "        text-align: right;\n",
              "    }\n",
              "</style>\n",
              "<table border=\"1\" class=\"dataframe\">\n",
              "  <thead>\n",
              "    <tr style=\"text-align: right;\">\n",
              "      <th></th>\n",
              "      <th>accommodates</th>\n",
              "      <th>amenities</th>\n",
              "      <th>availability_30</th>\n",
              "      <th>bathrooms</th>\n",
              "      <th>bed_type</th>\n",
              "      <th>bedrooms</th>\n",
              "      <th>beds</th>\n",
              "      <th>calculated_host_listings_count</th>\n",
              "      <th>cancellation_policy</th>\n",
              "      <th>guests_included</th>\n",
              "      <th>...</th>\n",
              "      <th>longitude(East)</th>\n",
              "      <th>maximum_nights</th>\n",
              "      <th>number_of_reviews</th>\n",
              "      <th>property_type</th>\n",
              "      <th>review_scores_checkin</th>\n",
              "      <th>review_scores_communication</th>\n",
              "      <th>review_scores_location</th>\n",
              "      <th>review_scores_rating</th>\n",
              "      <th>review_scores_value</th>\n",
              "      <th>room_type</th>\n",
              "    </tr>\n",
              "  </thead>\n",
              "  <tbody>\n",
              "    <tr>\n",
              "      <th>0</th>\n",
              "      <td>6</td>\n",
              "      <td>{\"Cable TV\",Internet,\"Wireless Internet\",\"Air ...</td>\n",
              "      <td>0</td>\n",
              "      <td>2.5</td>\n",
              "      <td>Real Bed</td>\n",
              "      <td>1.0</td>\n",
              "      <td>3.0</td>\n",
              "      <td>1</td>\n",
              "      <td>moderate</td>\n",
              "      <td>1</td>\n",
              "      <td>...</td>\n",
              "      <td>114.059600</td>\n",
              "      <td>10</td>\n",
              "      <td>1</td>\n",
              "      <td>House</td>\n",
              "      <td>10.0</td>\n",
              "      <td>10.0</td>\n",
              "      <td>10.0</td>\n",
              "      <td>100.0</td>\n",
              "      <td>10.0</td>\n",
              "      <td>Private room</td>\n",
              "    </tr>\n",
              "    <tr>\n",
              "      <th>1</th>\n",
              "      <td>2</td>\n",
              "      <td>{\"Air Conditioning\",Heating,\"Family/Kid Friend...</td>\n",
              "      <td>29</td>\n",
              "      <td>0.0</td>\n",
              "      <td>Futon</td>\n",
              "      <td>1.0</td>\n",
              "      <td>1.0</td>\n",
              "      <td>1</td>\n",
              "      <td>moderate</td>\n",
              "      <td>1</td>\n",
              "      <td>...</td>\n",
              "      <td>114.043225</td>\n",
              "      <td>7</td>\n",
              "      <td>0</td>\n",
              "      <td>Camper/RV</td>\n",
              "      <td>NaN</td>\n",
              "      <td>NaN</td>\n",
              "      <td>NaN</td>\n",
              "      <td>NaN</td>\n",
              "      <td>NaN</td>\n",
              "      <td>Private room</td>\n",
              "    </tr>\n",
              "    <tr>\n",
              "      <th>2</th>\n",
              "      <td>2</td>\n",
              "      <td>{TV,\"Cable TV\",Internet,\"Wireless Internet\",\"A...</td>\n",
              "      <td>30</td>\n",
              "      <td>1.5</td>\n",
              "      <td>Real Bed</td>\n",
              "      <td>1.0</td>\n",
              "      <td>1.0</td>\n",
              "      <td>2</td>\n",
              "      <td>flexible</td>\n",
              "      <td>1</td>\n",
              "      <td>...</td>\n",
              "      <td>114.079426</td>\n",
              "      <td>1125</td>\n",
              "      <td>0</td>\n",
              "      <td>House</td>\n",
              "      <td>NaN</td>\n",
              "      <td>NaN</td>\n",
              "      <td>NaN</td>\n",
              "      <td>NaN</td>\n",
              "      <td>NaN</td>\n",
              "      <td>Private room</td>\n",
              "    </tr>\n",
              "    <tr>\n",
              "      <th>3</th>\n",
              "      <td>2</td>\n",
              "      <td>{TV,\"Cable TV\",Internet,\"Wireless Internet\",\"A...</td>\n",
              "      <td>30</td>\n",
              "      <td>1.5</td>\n",
              "      <td>Real Bed</td>\n",
              "      <td>1.0</td>\n",
              "      <td>1.0</td>\n",
              "      <td>2</td>\n",
              "      <td>flexible</td>\n",
              "      <td>1</td>\n",
              "      <td>...</td>\n",
              "      <td>114.079035</td>\n",
              "      <td>1125</td>\n",
              "      <td>0</td>\n",
              "      <td>House</td>\n",
              "      <td>NaN</td>\n",
              "      <td>NaN</td>\n",
              "      <td>NaN</td>\n",
              "      <td>NaN</td>\n",
              "      <td>NaN</td>\n",
              "      <td>Private room</td>\n",
              "    </tr>\n",
              "    <tr>\n",
              "      <th>4</th>\n",
              "      <td>6</td>\n",
              "      <td>{TV,\"Cable TV\",Internet,\"Wireless Internet\",\"A...</td>\n",
              "      <td>27</td>\n",
              "      <td>2.0</td>\n",
              "      <td>Real Bed</td>\n",
              "      <td>3.0</td>\n",
              "      <td>3.0</td>\n",
              "      <td>2</td>\n",
              "      <td>strict</td>\n",
              "      <td>1</td>\n",
              "      <td>...</td>\n",
              "      <td>114.055590</td>\n",
              "      <td>1125</td>\n",
              "      <td>0</td>\n",
              "      <td>House</td>\n",
              "      <td>NaN</td>\n",
              "      <td>NaN</td>\n",
              "      <td>NaN</td>\n",
              "      <td>NaN</td>\n",
              "      <td>NaN</td>\n",
              "      <td>Entire home/apt</td>\n",
              "    </tr>\n",
              "  </tbody>\n",
              "</table>\n",
              "<p>5 rows × 25 columns</p>\n",
              "</div>\n",
              "      <button class=\"colab-df-convert\" onclick=\"convertToInteractive('df-ebd4e950-e94f-443c-a3b7-68bf63c3a9af')\"\n",
              "              title=\"Convert this dataframe to an interactive table.\"\n",
              "              style=\"display:none;\">\n",
              "        \n",
              "  <svg xmlns=\"http://www.w3.org/2000/svg\" height=\"24px\"viewBox=\"0 0 24 24\"\n",
              "       width=\"24px\">\n",
              "    <path d=\"M0 0h24v24H0V0z\" fill=\"none\"/>\n",
              "    <path d=\"M18.56 5.44l.94 2.06.94-2.06 2.06-.94-2.06-.94-.94-2.06-.94 2.06-2.06.94zm-11 1L8.5 8.5l.94-2.06 2.06-.94-2.06-.94L8.5 2.5l-.94 2.06-2.06.94zm10 10l.94 2.06.94-2.06 2.06-.94-2.06-.94-.94-2.06-.94 2.06-2.06.94z\"/><path d=\"M17.41 7.96l-1.37-1.37c-.4-.4-.92-.59-1.43-.59-.52 0-1.04.2-1.43.59L10.3 9.45l-7.72 7.72c-.78.78-.78 2.05 0 2.83L4 21.41c.39.39.9.59 1.41.59.51 0 1.02-.2 1.41-.59l7.78-7.78 2.81-2.81c.8-.78.8-2.07 0-2.86zM5.41 20L4 18.59l7.72-7.72 1.47 1.35L5.41 20z\"/>\n",
              "  </svg>\n",
              "      </button>\n",
              "      \n",
              "  <style>\n",
              "    .colab-df-container {\n",
              "      display:flex;\n",
              "      flex-wrap:wrap;\n",
              "      gap: 12px;\n",
              "    }\n",
              "\n",
              "    .colab-df-convert {\n",
              "      background-color: #E8F0FE;\n",
              "      border: none;\n",
              "      border-radius: 50%;\n",
              "      cursor: pointer;\n",
              "      display: none;\n",
              "      fill: #1967D2;\n",
              "      height: 32px;\n",
              "      padding: 0 0 0 0;\n",
              "      width: 32px;\n",
              "    }\n",
              "\n",
              "    .colab-df-convert:hover {\n",
              "      background-color: #E2EBFA;\n",
              "      box-shadow: 0px 1px 2px rgba(60, 64, 67, 0.3), 0px 1px 3px 1px rgba(60, 64, 67, 0.15);\n",
              "      fill: #174EA6;\n",
              "    }\n",
              "\n",
              "    [theme=dark] .colab-df-convert {\n",
              "      background-color: #3B4455;\n",
              "      fill: #D2E3FC;\n",
              "    }\n",
              "\n",
              "    [theme=dark] .colab-df-convert:hover {\n",
              "      background-color: #434B5C;\n",
              "      box-shadow: 0px 1px 3px 1px rgba(0, 0, 0, 0.15);\n",
              "      filter: drop-shadow(0px 1px 2px rgba(0, 0, 0, 0.3));\n",
              "      fill: #FFFFFF;\n",
              "    }\n",
              "  </style>\n",
              "\n",
              "      <script>\n",
              "        const buttonEl =\n",
              "          document.querySelector('#df-ebd4e950-e94f-443c-a3b7-68bf63c3a9af button.colab-df-convert');\n",
              "        buttonEl.style.display =\n",
              "          google.colab.kernel.accessAllowed ? 'block' : 'none';\n",
              "\n",
              "        async function convertToInteractive(key) {\n",
              "          const element = document.querySelector('#df-ebd4e950-e94f-443c-a3b7-68bf63c3a9af');\n",
              "          const dataTable =\n",
              "            await google.colab.kernel.invokeFunction('convertToInteractive',\n",
              "                                                     [key], {});\n",
              "          if (!dataTable) return;\n",
              "\n",
              "          const docLinkHtml = 'Like what you see? Visit the ' +\n",
              "            '<a target=\"_blank\" href=https://colab.research.google.com/notebooks/data_table.ipynb>data table notebook</a>'\n",
              "            + ' to learn more about interactive tables.';\n",
              "          element.innerHTML = '';\n",
              "          dataTable['output_type'] = 'display_data';\n",
              "          await google.colab.output.renderOutput(dataTable, element);\n",
              "          const docLink = document.createElement('div');\n",
              "          docLink.innerHTML = docLinkHtml;\n",
              "          element.appendChild(docLink);\n",
              "        }\n",
              "      </script>\n",
              "    </div>\n",
              "  </div>\n",
              "  "
            ]
          },
          "metadata": {},
          "execution_count": 168
        }
      ]
    },
    {
      "cell_type": "code",
      "source": [
        "#checking the null values\n",
        "df.isna().sum()"
      ],
      "metadata": {
        "colab": {
          "base_uri": "https://localhost:8080/"
        },
        "id": "1vF9VOkCuxoD",
        "outputId": "91ad297c-580c-44e0-992d-16fd5b144a3c"
      },
      "execution_count": null,
      "outputs": [
        {
          "output_type": "execute_result",
          "data": {
            "text/plain": [
              "accommodates                         0\n",
              "amenities                            0\n",
              "availability_30                      0\n",
              "bathrooms                           46\n",
              "bed_type                             0\n",
              "bedrooms                             6\n",
              "beds                                23\n",
              "calculated_host_listings_count       0\n",
              "cancellation_policy                  0\n",
              "guests_included                      0\n",
              "has_availability                     0\n",
              "host_is_superhost                   15\n",
              "host_listings_count                 15\n",
              "instant_bookable                     0\n",
              "latitude(North)                      0\n",
              "longitude(East)                      0\n",
              "maximum_nights                       0\n",
              "number_of_reviews                    0\n",
              "property_type                        0\n",
              "review_scores_checkin             2057\n",
              "review_scores_communication       2057\n",
              "review_scores_location            2056\n",
              "review_scores_rating              2046\n",
              "review_scores_value               2057\n",
              "room_type                            0\n",
              "dtype: int64"
            ]
          },
          "metadata": {},
          "execution_count": 169
        }
      ]
    },
    {
      "cell_type": "code",
      "source": [
        "# fill na : bedrooms = 0\n",
        "df['bedrooms'] = df['bedrooms'].fillna(0)"
      ],
      "metadata": {
        "id": "0anHI3zDvs37"
      },
      "execution_count": null,
      "outputs": []
    },
    {
      "cell_type": "code",
      "source": [
        "\n",
        "# fill na : beds = 0\n",
        "df['beds'] = df['beds'].fillna(0)"
      ],
      "metadata": {
        "id": "g5_EbLYRvs1P"
      },
      "execution_count": null,
      "outputs": []
    },
    {
      "cell_type": "code",
      "source": [
        "# fill na : host_listings_count = 0\n",
        "df['host_listings_count'] = df['host_listings_count'].fillna(0)"
      ],
      "metadata": {
        "id": "c8qyRc0_vsys"
      },
      "execution_count": null,
      "outputs": []
    },
    {
      "cell_type": "code",
      "source": [
        "# fill na : host_is_superhost = 'none'\n",
        "df['host_is_superhost'] = df['host_is_superhost'].fillna('none')"
      ],
      "metadata": {
        "id": "u3fcqPbvvswb"
      },
      "execution_count": null,
      "outputs": []
    },
    {
      "cell_type": "code",
      "source": [
        "\n",
        "# fill na : review_scores_checkin = mean\n",
        "df['review_scores_checkin'] = df['review_scores_checkin'].fillna(int(df['review_scores_checkin'].mean()))"
      ],
      "metadata": {
        "id": "za9ixiKYvsuL"
      },
      "execution_count": null,
      "outputs": []
    },
    {
      "cell_type": "code",
      "source": [
        "\n",
        "# fill na : review_scores_communication = mean\n",
        "df['review_scores_communication'] = df['review_scores_communication'].fillna(int(df['review_scores_communication'].mean()))"
      ],
      "metadata": {
        "id": "lkGyw613vsrX"
      },
      "execution_count": null,
      "outputs": []
    },
    {
      "cell_type": "code",
      "source": [
        "# fill na : review_scores_location = mean\n",
        "df['review_scores_location'] = df['review_scores_location'].fillna(int(df['review_scores_location'].mean()))"
      ],
      "metadata": {
        "id": "gqY52rcEvsny"
      },
      "execution_count": null,
      "outputs": []
    },
    {
      "cell_type": "code",
      "source": [
        "# fill na : review_scores_rating = mean\n",
        "df['review_scores_rating'] = df['review_scores_rating'].fillna(int(df['review_scores_rating'].mean()))"
      ],
      "metadata": {
        "id": "3YGj1MA1vslJ"
      },
      "execution_count": null,
      "outputs": []
    },
    {
      "cell_type": "code",
      "source": [
        "# fill na : review_scores_value = mean\n",
        "df['review_scores_value'] = df['review_scores_value'].fillna(int(df['review_scores_value'].mean()))"
      ],
      "metadata": {
        "id": "acW-4HSfvsiW"
      },
      "execution_count": null,
      "outputs": []
    },
    {
      "cell_type": "code",
      "source": [
        "df.isna().sum()"
      ],
      "metadata": {
        "colab": {
          "base_uri": "https://localhost:8080/"
        },
        "id": "LkUaz-KfvsfP",
        "outputId": "5ce72a65-9746-4faf-ebb9-13963c41af17"
      },
      "execution_count": null,
      "outputs": [
        {
          "output_type": "execute_result",
          "data": {
            "text/plain": [
              "accommodates                       0\n",
              "amenities                          0\n",
              "availability_30                    0\n",
              "bathrooms                         46\n",
              "bed_type                           0\n",
              "bedrooms                           0\n",
              "beds                               0\n",
              "calculated_host_listings_count     0\n",
              "cancellation_policy                0\n",
              "guests_included                    0\n",
              "has_availability                   0\n",
              "host_is_superhost                  0\n",
              "host_listings_count                0\n",
              "instant_bookable                   0\n",
              "latitude(North)                    0\n",
              "longitude(East)                    0\n",
              "maximum_nights                     0\n",
              "number_of_reviews                  0\n",
              "property_type                      0\n",
              "review_scores_checkin              0\n",
              "review_scores_communication        0\n",
              "review_scores_location             0\n",
              "review_scores_rating               0\n",
              "review_scores_value                0\n",
              "room_type                          0\n",
              "dtype: int64"
            ]
          },
          "metadata": {},
          "execution_count": 179
        }
      ]
    },
    {
      "cell_type": "code",
      "source": [
        "df.describe()"
      ],
      "metadata": {
        "colab": {
          "base_uri": "https://localhost:8080/",
          "height": 364
        },
        "id": "-CnhWtZxvSxy",
        "outputId": "be381070-6ed1-4804-8fac-5e114a14dd43"
      },
      "execution_count": null,
      "outputs": [
        {
          "output_type": "execute_result",
          "data": {
            "text/plain": [
              "       accommodates  availability_30    bathrooms     bedrooms         beds  \\\n",
              "count   5834.000000      5834.000000  5788.000000  5834.000000  5834.000000   \n",
              "mean       4.388584        16.521083     1.479699     1.737230     2.203805   \n",
              "std        2.689105        12.322443     0.774671     1.137411     1.653650   \n",
              "min        1.000000         0.000000     0.000000     0.000000     0.000000   \n",
              "25%        2.000000         1.000000     1.000000     1.000000     1.000000   \n",
              "50%        4.000000        20.000000     1.000000     1.000000     2.000000   \n",
              "75%        6.000000        29.000000     2.000000     2.000000     3.000000   \n",
              "max       16.000000        30.000000     8.000000    10.000000    16.000000   \n",
              "\n",
              "       calculated_host_listings_count  guests_included  host_listings_count  \\\n",
              "count                     5834.000000      5834.000000          5834.000000   \n",
              "mean                         1.901097         1.880699            11.737916   \n",
              "std                          2.282242         1.773520            55.094922   \n",
              "min                          1.000000         0.000000             0.000000   \n",
              "25%                          1.000000         1.000000             1.000000   \n",
              "50%                          1.000000         1.000000             1.000000   \n",
              "75%                          2.000000         2.000000             2.000000   \n",
              "max                         17.000000        16.000000           339.000000   \n",
              "\n",
              "       latitude(North)  longitude(East)  maximum_nights  number_of_reviews  \\\n",
              "count      5834.000000      5834.000000     5834.000000        5834.000000   \n",
              "mean         22.610686       114.192840      746.705862          10.796366   \n",
              "std           0.047957         0.042389      641.901800          25.407450   \n",
              "min          22.470593       113.936585        1.000000           0.000000   \n",
              "25%          22.583001       114.173795       30.000000           0.000000   \n",
              "50%          22.600510       114.196540     1125.000000           2.000000   \n",
              "75%          22.631677       114.218806     1125.000000           9.000000   \n",
              "max          22.838904       114.376861    26801.000000         314.000000   \n",
              "\n",
              "       review_scores_checkin  review_scores_communication  \\\n",
              "count            5834.000000                  5834.000000   \n",
              "mean                9.537881                     9.543195   \n",
              "std                 0.596884                     0.605367   \n",
              "min                 2.000000                     2.000000   \n",
              "25%                 9.000000                     9.000000   \n",
              "50%                10.000000                    10.000000   \n",
              "75%                10.000000                    10.000000   \n",
              "max                10.000000                    10.000000   \n",
              "\n",
              "       review_scores_location  review_scores_rating  review_scores_value  \n",
              "count             5834.000000           5834.000000          5834.000000  \n",
              "mean                 9.303222             95.282139             9.269626  \n",
              "std                  0.707119              5.854244             0.745393  \n",
              "min                  4.000000             20.000000             2.000000  \n",
              "25%                  9.000000             95.000000             9.000000  \n",
              "50%                  9.000000             95.000000             9.000000  \n",
              "75%                 10.000000            100.000000            10.000000  \n",
              "max                 10.000000            100.000000            10.000000  "
            ],
            "text/html": [
              "\n",
              "  <div id=\"df-bb505231-cad0-4b2a-a893-90ba31339fd2\">\n",
              "    <div class=\"colab-df-container\">\n",
              "      <div>\n",
              "<style scoped>\n",
              "    .dataframe tbody tr th:only-of-type {\n",
              "        vertical-align: middle;\n",
              "    }\n",
              "\n",
              "    .dataframe tbody tr th {\n",
              "        vertical-align: top;\n",
              "    }\n",
              "\n",
              "    .dataframe thead th {\n",
              "        text-align: right;\n",
              "    }\n",
              "</style>\n",
              "<table border=\"1\" class=\"dataframe\">\n",
              "  <thead>\n",
              "    <tr style=\"text-align: right;\">\n",
              "      <th></th>\n",
              "      <th>accommodates</th>\n",
              "      <th>availability_30</th>\n",
              "      <th>bathrooms</th>\n",
              "      <th>bedrooms</th>\n",
              "      <th>beds</th>\n",
              "      <th>calculated_host_listings_count</th>\n",
              "      <th>guests_included</th>\n",
              "      <th>host_listings_count</th>\n",
              "      <th>latitude(North)</th>\n",
              "      <th>longitude(East)</th>\n",
              "      <th>maximum_nights</th>\n",
              "      <th>number_of_reviews</th>\n",
              "      <th>review_scores_checkin</th>\n",
              "      <th>review_scores_communication</th>\n",
              "      <th>review_scores_location</th>\n",
              "      <th>review_scores_rating</th>\n",
              "      <th>review_scores_value</th>\n",
              "    </tr>\n",
              "  </thead>\n",
              "  <tbody>\n",
              "    <tr>\n",
              "      <th>count</th>\n",
              "      <td>5834.000000</td>\n",
              "      <td>5834.000000</td>\n",
              "      <td>5788.000000</td>\n",
              "      <td>5834.000000</td>\n",
              "      <td>5834.000000</td>\n",
              "      <td>5834.000000</td>\n",
              "      <td>5834.000000</td>\n",
              "      <td>5834.000000</td>\n",
              "      <td>5834.000000</td>\n",
              "      <td>5834.000000</td>\n",
              "      <td>5834.000000</td>\n",
              "      <td>5834.000000</td>\n",
              "      <td>5834.000000</td>\n",
              "      <td>5834.000000</td>\n",
              "      <td>5834.000000</td>\n",
              "      <td>5834.000000</td>\n",
              "      <td>5834.000000</td>\n",
              "    </tr>\n",
              "    <tr>\n",
              "      <th>mean</th>\n",
              "      <td>4.388584</td>\n",
              "      <td>16.521083</td>\n",
              "      <td>1.479699</td>\n",
              "      <td>1.737230</td>\n",
              "      <td>2.203805</td>\n",
              "      <td>1.901097</td>\n",
              "      <td>1.880699</td>\n",
              "      <td>11.737916</td>\n",
              "      <td>22.610686</td>\n",
              "      <td>114.192840</td>\n",
              "      <td>746.705862</td>\n",
              "      <td>10.796366</td>\n",
              "      <td>9.537881</td>\n",
              "      <td>9.543195</td>\n",
              "      <td>9.303222</td>\n",
              "      <td>95.282139</td>\n",
              "      <td>9.269626</td>\n",
              "    </tr>\n",
              "    <tr>\n",
              "      <th>std</th>\n",
              "      <td>2.689105</td>\n",
              "      <td>12.322443</td>\n",
              "      <td>0.774671</td>\n",
              "      <td>1.137411</td>\n",
              "      <td>1.653650</td>\n",
              "      <td>2.282242</td>\n",
              "      <td>1.773520</td>\n",
              "      <td>55.094922</td>\n",
              "      <td>0.047957</td>\n",
              "      <td>0.042389</td>\n",
              "      <td>641.901800</td>\n",
              "      <td>25.407450</td>\n",
              "      <td>0.596884</td>\n",
              "      <td>0.605367</td>\n",
              "      <td>0.707119</td>\n",
              "      <td>5.854244</td>\n",
              "      <td>0.745393</td>\n",
              "    </tr>\n",
              "    <tr>\n",
              "      <th>min</th>\n",
              "      <td>1.000000</td>\n",
              "      <td>0.000000</td>\n",
              "      <td>0.000000</td>\n",
              "      <td>0.000000</td>\n",
              "      <td>0.000000</td>\n",
              "      <td>1.000000</td>\n",
              "      <td>0.000000</td>\n",
              "      <td>0.000000</td>\n",
              "      <td>22.470593</td>\n",
              "      <td>113.936585</td>\n",
              "      <td>1.000000</td>\n",
              "      <td>0.000000</td>\n",
              "      <td>2.000000</td>\n",
              "      <td>2.000000</td>\n",
              "      <td>4.000000</td>\n",
              "      <td>20.000000</td>\n",
              "      <td>2.000000</td>\n",
              "    </tr>\n",
              "    <tr>\n",
              "      <th>25%</th>\n",
              "      <td>2.000000</td>\n",
              "      <td>1.000000</td>\n",
              "      <td>1.000000</td>\n",
              "      <td>1.000000</td>\n",
              "      <td>1.000000</td>\n",
              "      <td>1.000000</td>\n",
              "      <td>1.000000</td>\n",
              "      <td>1.000000</td>\n",
              "      <td>22.583001</td>\n",
              "      <td>114.173795</td>\n",
              "      <td>30.000000</td>\n",
              "      <td>0.000000</td>\n",
              "      <td>9.000000</td>\n",
              "      <td>9.000000</td>\n",
              "      <td>9.000000</td>\n",
              "      <td>95.000000</td>\n",
              "      <td>9.000000</td>\n",
              "    </tr>\n",
              "    <tr>\n",
              "      <th>50%</th>\n",
              "      <td>4.000000</td>\n",
              "      <td>20.000000</td>\n",
              "      <td>1.000000</td>\n",
              "      <td>1.000000</td>\n",
              "      <td>2.000000</td>\n",
              "      <td>1.000000</td>\n",
              "      <td>1.000000</td>\n",
              "      <td>1.000000</td>\n",
              "      <td>22.600510</td>\n",
              "      <td>114.196540</td>\n",
              "      <td>1125.000000</td>\n",
              "      <td>2.000000</td>\n",
              "      <td>10.000000</td>\n",
              "      <td>10.000000</td>\n",
              "      <td>9.000000</td>\n",
              "      <td>95.000000</td>\n",
              "      <td>9.000000</td>\n",
              "    </tr>\n",
              "    <tr>\n",
              "      <th>75%</th>\n",
              "      <td>6.000000</td>\n",
              "      <td>29.000000</td>\n",
              "      <td>2.000000</td>\n",
              "      <td>2.000000</td>\n",
              "      <td>3.000000</td>\n",
              "      <td>2.000000</td>\n",
              "      <td>2.000000</td>\n",
              "      <td>2.000000</td>\n",
              "      <td>22.631677</td>\n",
              "      <td>114.218806</td>\n",
              "      <td>1125.000000</td>\n",
              "      <td>9.000000</td>\n",
              "      <td>10.000000</td>\n",
              "      <td>10.000000</td>\n",
              "      <td>10.000000</td>\n",
              "      <td>100.000000</td>\n",
              "      <td>10.000000</td>\n",
              "    </tr>\n",
              "    <tr>\n",
              "      <th>max</th>\n",
              "      <td>16.000000</td>\n",
              "      <td>30.000000</td>\n",
              "      <td>8.000000</td>\n",
              "      <td>10.000000</td>\n",
              "      <td>16.000000</td>\n",
              "      <td>17.000000</td>\n",
              "      <td>16.000000</td>\n",
              "      <td>339.000000</td>\n",
              "      <td>22.838904</td>\n",
              "      <td>114.376861</td>\n",
              "      <td>26801.000000</td>\n",
              "      <td>314.000000</td>\n",
              "      <td>10.000000</td>\n",
              "      <td>10.000000</td>\n",
              "      <td>10.000000</td>\n",
              "      <td>100.000000</td>\n",
              "      <td>10.000000</td>\n",
              "    </tr>\n",
              "  </tbody>\n",
              "</table>\n",
              "</div>\n",
              "      <button class=\"colab-df-convert\" onclick=\"convertToInteractive('df-bb505231-cad0-4b2a-a893-90ba31339fd2')\"\n",
              "              title=\"Convert this dataframe to an interactive table.\"\n",
              "              style=\"display:none;\">\n",
              "        \n",
              "  <svg xmlns=\"http://www.w3.org/2000/svg\" height=\"24px\"viewBox=\"0 0 24 24\"\n",
              "       width=\"24px\">\n",
              "    <path d=\"M0 0h24v24H0V0z\" fill=\"none\"/>\n",
              "    <path d=\"M18.56 5.44l.94 2.06.94-2.06 2.06-.94-2.06-.94-.94-2.06-.94 2.06-2.06.94zm-11 1L8.5 8.5l.94-2.06 2.06-.94-2.06-.94L8.5 2.5l-.94 2.06-2.06.94zm10 10l.94 2.06.94-2.06 2.06-.94-2.06-.94-.94-2.06-.94 2.06-2.06.94z\"/><path d=\"M17.41 7.96l-1.37-1.37c-.4-.4-.92-.59-1.43-.59-.52 0-1.04.2-1.43.59L10.3 9.45l-7.72 7.72c-.78.78-.78 2.05 0 2.83L4 21.41c.39.39.9.59 1.41.59.51 0 1.02-.2 1.41-.59l7.78-7.78 2.81-2.81c.8-.78.8-2.07 0-2.86zM5.41 20L4 18.59l7.72-7.72 1.47 1.35L5.41 20z\"/>\n",
              "  </svg>\n",
              "      </button>\n",
              "      \n",
              "  <style>\n",
              "    .colab-df-container {\n",
              "      display:flex;\n",
              "      flex-wrap:wrap;\n",
              "      gap: 12px;\n",
              "    }\n",
              "\n",
              "    .colab-df-convert {\n",
              "      background-color: #E8F0FE;\n",
              "      border: none;\n",
              "      border-radius: 50%;\n",
              "      cursor: pointer;\n",
              "      display: none;\n",
              "      fill: #1967D2;\n",
              "      height: 32px;\n",
              "      padding: 0 0 0 0;\n",
              "      width: 32px;\n",
              "    }\n",
              "\n",
              "    .colab-df-convert:hover {\n",
              "      background-color: #E2EBFA;\n",
              "      box-shadow: 0px 1px 2px rgba(60, 64, 67, 0.3), 0px 1px 3px 1px rgba(60, 64, 67, 0.15);\n",
              "      fill: #174EA6;\n",
              "    }\n",
              "\n",
              "    [theme=dark] .colab-df-convert {\n",
              "      background-color: #3B4455;\n",
              "      fill: #D2E3FC;\n",
              "    }\n",
              "\n",
              "    [theme=dark] .colab-df-convert:hover {\n",
              "      background-color: #434B5C;\n",
              "      box-shadow: 0px 1px 3px 1px rgba(0, 0, 0, 0.15);\n",
              "      filter: drop-shadow(0px 1px 2px rgba(0, 0, 0, 0.3));\n",
              "      fill: #FFFFFF;\n",
              "    }\n",
              "  </style>\n",
              "\n",
              "      <script>\n",
              "        const buttonEl =\n",
              "          document.querySelector('#df-bb505231-cad0-4b2a-a893-90ba31339fd2 button.colab-df-convert');\n",
              "        buttonEl.style.display =\n",
              "          google.colab.kernel.accessAllowed ? 'block' : 'none';\n",
              "\n",
              "        async function convertToInteractive(key) {\n",
              "          const element = document.querySelector('#df-bb505231-cad0-4b2a-a893-90ba31339fd2');\n",
              "          const dataTable =\n",
              "            await google.colab.kernel.invokeFunction('convertToInteractive',\n",
              "                                                     [key], {});\n",
              "          if (!dataTable) return;\n",
              "\n",
              "          const docLinkHtml = 'Like what you see? Visit the ' +\n",
              "            '<a target=\"_blank\" href=https://colab.research.google.com/notebooks/data_table.ipynb>data table notebook</a>'\n",
              "            + ' to learn more about interactive tables.';\n",
              "          element.innerHTML = '';\n",
              "          dataTable['output_type'] = 'display_data';\n",
              "          await google.colab.output.renderOutput(dataTable, element);\n",
              "          const docLink = document.createElement('div');\n",
              "          docLink.innerHTML = docLinkHtml;\n",
              "          element.appendChild(docLink);\n",
              "        }\n",
              "      </script>\n",
              "    </div>\n",
              "  </div>\n",
              "  "
            ]
          },
          "metadata": {},
          "execution_count": 180
        }
      ]
    },
    {
      "cell_type": "code",
      "source": [
        "print(len(df.columns))\n",
        "print(df.columns)"
      ],
      "metadata": {
        "colab": {
          "base_uri": "https://localhost:8080/"
        },
        "id": "k_PxzFAOvTP4",
        "outputId": "4ac2bc04-4806-4c66-a35f-a2706db6d016"
      },
      "execution_count": null,
      "outputs": [
        {
          "output_type": "stream",
          "name": "stdout",
          "text": [
            "25\n",
            "Index(['accommodates', 'amenities', 'availability_30', 'bathrooms', 'bed_type',\n",
            "       'bedrooms', 'beds', 'calculated_host_listings_count',\n",
            "       'cancellation_policy', 'guests_included', 'has_availability',\n",
            "       'host_is_superhost', 'host_listings_count', 'instant_bookable',\n",
            "       'latitude(North)', 'longitude(East)', 'maximum_nights',\n",
            "       'number_of_reviews', 'property_type', 'review_scores_checkin',\n",
            "       'review_scores_communication', 'review_scores_location',\n",
            "       'review_scores_rating', 'review_scores_value', 'room_type'],\n",
            "      dtype='object')\n"
          ]
        }
      ]
    },
    {
      "cell_type": "code",
      "source": [
        "df.dtypes"
      ],
      "metadata": {
        "colab": {
          "base_uri": "https://localhost:8080/"
        },
        "id": "bZyZbjNjvWdF",
        "outputId": "e706e87a-f6e6-4794-b505-d188f84314fd"
      },
      "execution_count": null,
      "outputs": [
        {
          "output_type": "execute_result",
          "data": {
            "text/plain": [
              "accommodates                        int64\n",
              "amenities                          object\n",
              "availability_30                     int64\n",
              "bathrooms                         float64\n",
              "bed_type                           object\n",
              "bedrooms                          float64\n",
              "beds                              float64\n",
              "calculated_host_listings_count      int64\n",
              "cancellation_policy                object\n",
              "guests_included                     int64\n",
              "has_availability                   object\n",
              "host_is_superhost                  object\n",
              "host_listings_count               float64\n",
              "instant_bookable                   object\n",
              "latitude(North)                   float64\n",
              "longitude(East)                   float64\n",
              "maximum_nights                      int64\n",
              "number_of_reviews                   int64\n",
              "property_type                      object\n",
              "review_scores_checkin             float64\n",
              "review_scores_communication       float64\n",
              "review_scores_location            float64\n",
              "review_scores_rating              float64\n",
              "review_scores_value               float64\n",
              "room_type                          object\n",
              "dtype: object"
            ]
          },
          "metadata": {},
          "execution_count": 182
        }
      ]
    },
    {
      "cell_type": "code",
      "source": [
        "for col in list(df.select_dtypes(['object']).columns):\n",
        "    print(col)\n",
        "    print(len(df[col].unique()))\n",
        "    print(df[col].unique())\n",
        "    print('')"
      ],
      "metadata": {
        "colab": {
          "base_uri": "https://localhost:8080/"
        },
        "id": "qKHWypPVvdVk",
        "outputId": "479e431b-7788-4acd-c0d9-74318f405e75"
      },
      "execution_count": null,
      "outputs": [
        {
          "output_type": "stream",
          "name": "stdout",
          "text": [
            "amenities\n",
            "4473\n",
            "['{\"Cable TV\",Internet,\"Wireless Internet\",\"Air Conditioning\",Kitchen,\"Pets live on this property\",Dog(s),\"Other pet(s)\",\"Hot Tub\",\"Indoor Fireplace\",Heating,\"Family/Kid Friendly\",Washer,Dryer,\"Smoke Detector\",\"Fire Extinguisher\",Essentials}'\n",
            " '{\"Air Conditioning\",Heating,\"Family/Kid Friendly\",\"Smoke Detector\",\"First Aid Kit\",\"Fire Extinguisher\"}'\n",
            " '{TV,\"Cable TV\",Internet,\"Wireless Internet\",\"Air Conditioning\",Pool,Kitchen,\"Free Parking on Premises\",\"Indoor Fireplace\",Heating,Washer,Dryer,\"Smoke Detector\",\"Safety Card\",\"Fire Extinguisher\",Essentials,Shampoo,\"Lock on Bedroom Door\"}'\n",
            " ...\n",
            " '{TV,\"Air Conditioning\",Pool,Kitchen,Gym,\"Elevator in Building\",Heating,\"Family/Kid Friendly\",Washer,Dryer,\"Smoke Detector\",\"Carbon Monoxide Detector\",Essentials,Shampoo}'\n",
            " '{TV,\"Cable TV\",Internet,\"Wireless Internet\",\"Air Conditioning\",Kitchen,\"Free Parking on Premises\",\"Pets Allowed\",Heating,\"Family/Kid Friendly\",\"Smoke Detector\",Essentials,Shampoo}'\n",
            " '{TV,\"Cable TV\",\"Wireless Internet\",\"Air Conditioning\",Pool,Kitchen,\"Free Parking on Premises\",Heating,\"Family/Kid Friendly\",\"Smoke Detector\",\"First Aid Kit\",\"Fire Extinguisher\",Essentials}']\n",
            "\n",
            "bed_type\n",
            "5\n",
            "['Real Bed' 'Futon' 'Airbed' 'Pull-out Sofa' 'Couch']\n",
            "\n",
            "cancellation_policy\n",
            "5\n",
            "['moderate' 'flexible' 'strict' 'super_strict_30' 'no_refunds']\n",
            "\n",
            "has_availability\n",
            "1\n",
            "['t']\n",
            "\n",
            "host_is_superhost\n",
            "3\n",
            "['f' 't' 'none']\n",
            "\n",
            "instant_bookable\n",
            "2\n",
            "['f' 't']\n",
            "\n",
            "property_type\n",
            "18\n",
            "['House' 'Camper/RV' 'Bed & Breakfast' 'Apartment' 'Townhouse'\n",
            " 'Condominium' 'Bungalow' 'Cabin' 'Other' 'Loft' 'Villa' 'Treehouse'\n",
            " 'Tent' 'Boat' 'Hut' 'Chalet' 'Earth House' 'Tipi']\n",
            "\n",
            "room_type\n",
            "3\n",
            "['Private room' 'Entire home/apt' 'Shared room']\n",
            "\n"
          ]
        }
      ]
    },
    {
      "cell_type": "code",
      "source": [
        "\n",
        "#checking df_price\n",
        "df_price.head()"
      ],
      "metadata": {
        "colab": {
          "base_uri": "https://localhost:8080/",
          "height": 206
        },
        "id": "MNPYktYGwoql",
        "outputId": "607f778e-41a7-41df-be22-0f2d29b830a5"
      },
      "execution_count": null,
      "outputs": [
        {
          "output_type": "execute_result",
          "data": {
            "text/plain": [
              "     price\n",
              "0  $300.00\n",
              "1   $99.00\n",
              "2  $100.00\n",
              "3  $100.00\n",
              "4  $599.00"
            ],
            "text/html": [
              "\n",
              "  <div id=\"df-0e582de9-1345-4e22-bc42-ae19427b120a\">\n",
              "    <div class=\"colab-df-container\">\n",
              "      <div>\n",
              "<style scoped>\n",
              "    .dataframe tbody tr th:only-of-type {\n",
              "        vertical-align: middle;\n",
              "    }\n",
              "\n",
              "    .dataframe tbody tr th {\n",
              "        vertical-align: top;\n",
              "    }\n",
              "\n",
              "    .dataframe thead th {\n",
              "        text-align: right;\n",
              "    }\n",
              "</style>\n",
              "<table border=\"1\" class=\"dataframe\">\n",
              "  <thead>\n",
              "    <tr style=\"text-align: right;\">\n",
              "      <th></th>\n",
              "      <th>price</th>\n",
              "    </tr>\n",
              "  </thead>\n",
              "  <tbody>\n",
              "    <tr>\n",
              "      <th>0</th>\n",
              "      <td>$300.00</td>\n",
              "    </tr>\n",
              "    <tr>\n",
              "      <th>1</th>\n",
              "      <td>$99.00</td>\n",
              "    </tr>\n",
              "    <tr>\n",
              "      <th>2</th>\n",
              "      <td>$100.00</td>\n",
              "    </tr>\n",
              "    <tr>\n",
              "      <th>3</th>\n",
              "      <td>$100.00</td>\n",
              "    </tr>\n",
              "    <tr>\n",
              "      <th>4</th>\n",
              "      <td>$599.00</td>\n",
              "    </tr>\n",
              "  </tbody>\n",
              "</table>\n",
              "</div>\n",
              "      <button class=\"colab-df-convert\" onclick=\"convertToInteractive('df-0e582de9-1345-4e22-bc42-ae19427b120a')\"\n",
              "              title=\"Convert this dataframe to an interactive table.\"\n",
              "              style=\"display:none;\">\n",
              "        \n",
              "  <svg xmlns=\"http://www.w3.org/2000/svg\" height=\"24px\"viewBox=\"0 0 24 24\"\n",
              "       width=\"24px\">\n",
              "    <path d=\"M0 0h24v24H0V0z\" fill=\"none\"/>\n",
              "    <path d=\"M18.56 5.44l.94 2.06.94-2.06 2.06-.94-2.06-.94-.94-2.06-.94 2.06-2.06.94zm-11 1L8.5 8.5l.94-2.06 2.06-.94-2.06-.94L8.5 2.5l-.94 2.06-2.06.94zm10 10l.94 2.06.94-2.06 2.06-.94-2.06-.94-.94-2.06-.94 2.06-2.06.94z\"/><path d=\"M17.41 7.96l-1.37-1.37c-.4-.4-.92-.59-1.43-.59-.52 0-1.04.2-1.43.59L10.3 9.45l-7.72 7.72c-.78.78-.78 2.05 0 2.83L4 21.41c.39.39.9.59 1.41.59.51 0 1.02-.2 1.41-.59l7.78-7.78 2.81-2.81c.8-.78.8-2.07 0-2.86zM5.41 20L4 18.59l7.72-7.72 1.47 1.35L5.41 20z\"/>\n",
              "  </svg>\n",
              "      </button>\n",
              "      \n",
              "  <style>\n",
              "    .colab-df-container {\n",
              "      display:flex;\n",
              "      flex-wrap:wrap;\n",
              "      gap: 12px;\n",
              "    }\n",
              "\n",
              "    .colab-df-convert {\n",
              "      background-color: #E8F0FE;\n",
              "      border: none;\n",
              "      border-radius: 50%;\n",
              "      cursor: pointer;\n",
              "      display: none;\n",
              "      fill: #1967D2;\n",
              "      height: 32px;\n",
              "      padding: 0 0 0 0;\n",
              "      width: 32px;\n",
              "    }\n",
              "\n",
              "    .colab-df-convert:hover {\n",
              "      background-color: #E2EBFA;\n",
              "      box-shadow: 0px 1px 2px rgba(60, 64, 67, 0.3), 0px 1px 3px 1px rgba(60, 64, 67, 0.15);\n",
              "      fill: #174EA6;\n",
              "    }\n",
              "\n",
              "    [theme=dark] .colab-df-convert {\n",
              "      background-color: #3B4455;\n",
              "      fill: #D2E3FC;\n",
              "    }\n",
              "\n",
              "    [theme=dark] .colab-df-convert:hover {\n",
              "      background-color: #434B5C;\n",
              "      box-shadow: 0px 1px 3px 1px rgba(0, 0, 0, 0.15);\n",
              "      filter: drop-shadow(0px 1px 2px rgba(0, 0, 0, 0.3));\n",
              "      fill: #FFFFFF;\n",
              "    }\n",
              "  </style>\n",
              "\n",
              "      <script>\n",
              "        const buttonEl =\n",
              "          document.querySelector('#df-0e582de9-1345-4e22-bc42-ae19427b120a button.colab-df-convert');\n",
              "        buttonEl.style.display =\n",
              "          google.colab.kernel.accessAllowed ? 'block' : 'none';\n",
              "\n",
              "        async function convertToInteractive(key) {\n",
              "          const element = document.querySelector('#df-0e582de9-1345-4e22-bc42-ae19427b120a');\n",
              "          const dataTable =\n",
              "            await google.colab.kernel.invokeFunction('convertToInteractive',\n",
              "                                                     [key], {});\n",
              "          if (!dataTable) return;\n",
              "\n",
              "          const docLinkHtml = 'Like what you see? Visit the ' +\n",
              "            '<a target=\"_blank\" href=https://colab.research.google.com/notebooks/data_table.ipynb>data table notebook</a>'\n",
              "            + ' to learn more about interactive tables.';\n",
              "          element.innerHTML = '';\n",
              "          dataTable['output_type'] = 'display_data';\n",
              "          await google.colab.output.renderOutput(dataTable, element);\n",
              "          const docLink = document.createElement('div');\n",
              "          docLink.innerHTML = docLinkHtml;\n",
              "          element.appendChild(docLink);\n",
              "        }\n",
              "      </script>\n",
              "    </div>\n",
              "  </div>\n",
              "  "
            ]
          },
          "metadata": {},
          "execution_count": 184
        }
      ]
    },
    {
      "cell_type": "code",
      "source": [
        "df_price.dtypes"
      ],
      "metadata": {
        "colab": {
          "base_uri": "https://localhost:8080/"
        },
        "id": "8fpnDo9ww20w",
        "outputId": "c62b5655-a59a-41f3-8bd7-ceef874354d1"
      },
      "execution_count": null,
      "outputs": [
        {
          "output_type": "execute_result",
          "data": {
            "text/plain": [
              "price    object\n",
              "dtype: object"
            ]
          },
          "metadata": {},
          "execution_count": 185
        }
      ]
    },
    {
      "cell_type": "code",
      "source": [
        "len(df_price)"
      ],
      "metadata": {
        "colab": {
          "base_uri": "https://localhost:8080/"
        },
        "id": "EDjn8yFPw6B6",
        "outputId": "2bab7abc-4b76-4f32-8ba6-c1cb35da7877"
      },
      "execution_count": null,
      "outputs": [
        {
          "output_type": "execute_result",
          "data": {
            "text/plain": [
              "5834"
            ]
          },
          "metadata": {},
          "execution_count": 186
        }
      ]
    },
    {
      "cell_type": "code",
      "source": [
        "df_price.isna().sum()"
      ],
      "metadata": {
        "colab": {
          "base_uri": "https://localhost:8080/"
        },
        "id": "-ZWJ8P_1w8W4",
        "outputId": "dc8f24ce-776c-4135-b30e-d6b669b74421"
      },
      "execution_count": null,
      "outputs": [
        {
          "output_type": "execute_result",
          "data": {
            "text/plain": [
              "price    0\n",
              "dtype: int64"
            ]
          },
          "metadata": {},
          "execution_count": 187
        }
      ]
    },
    {
      "cell_type": "code",
      "source": [
        "#replace $ sign\n",
        "df_price['price'] = df_price['price'].str.replace('$','')\n",
        "#replace , sign\n",
        "df_price['price'] = df_price['price'].str.replace(',','')"
      ],
      "metadata": {
        "colab": {
          "base_uri": "https://localhost:8080/"
        },
        "id": "m_piLFEUw_DD",
        "outputId": "1e727ec4-ef32-4514-b66b-4d3f039f4e62"
      },
      "execution_count": null,
      "outputs": [
        {
          "output_type": "stream",
          "name": "stderr",
          "text": [
            "<ipython-input-188-c6c4ae5ca60d>:2: FutureWarning: The default value of regex will change from True to False in a future version. In addition, single character regular expressions will *not* be treated as literal strings when regex=True.\n",
            "  df_price['price'] = df_price['price'].str.replace('$','')\n"
          ]
        }
      ]
    },
    {
      "cell_type": "code",
      "source": [
        "#change type to float\n",
        "df_price['price'] = pd.to_numeric(df_price['price'])"
      ],
      "metadata": {
        "id": "Jtt6qb8cxBuA"
      },
      "execution_count": null,
      "outputs": []
    },
    {
      "cell_type": "code",
      "source": [
        "df_price.dtypes"
      ],
      "metadata": {
        "colab": {
          "base_uri": "https://localhost:8080/"
        },
        "id": "3tVsQegTxEtW",
        "outputId": "e78a9f61-628f-4b62-975e-2ae5defe8a6d"
      },
      "execution_count": null,
      "outputs": [
        {
          "output_type": "execute_result",
          "data": {
            "text/plain": [
              "price    float64\n",
              "dtype: object"
            ]
          },
          "metadata": {},
          "execution_count": 190
        }
      ]
    },
    {
      "cell_type": "code",
      "source": [
        "#Extract amenities\n",
        "features_key = set()\n",
        "def extract_feature(x):\n",
        "    s1 = x.replace('{', '').replace('}', '').replace('\"', '')\n",
        "    s1 = s1.split(',')\n",
        "    for s in s1:\n",
        "        features_key.add(s)\n",
        "        #print(s)\n",
        "\n",
        "df['amenities'].apply(extract_feature)"
      ],
      "metadata": {
        "colab": {
          "base_uri": "https://localhost:8080/"
        },
        "id": "N5uvMcJlxHwr",
        "outputId": "38013572-a484-4a6f-f399-8e12c8cf9530"
      },
      "execution_count": null,
      "outputs": [
        {
          "output_type": "execute_result",
          "data": {
            "text/plain": [
              "0       None\n",
              "1       None\n",
              "2       None\n",
              "3       None\n",
              "4       None\n",
              "        ... \n",
              "5829    None\n",
              "5830    None\n",
              "5831    None\n",
              "5832    None\n",
              "5833    None\n",
              "Name: amenities, Length: 5834, dtype: object"
            ]
          },
          "metadata": {},
          "execution_count": 191
        }
      ]
    },
    {
      "cell_type": "code",
      "source": [
        "features_key"
      ],
      "metadata": {
        "colab": {
          "base_uri": "https://localhost:8080/"
        },
        "id": "Dgy1V4yqxR7F",
        "outputId": "db1e81cd-c821-4140-acfb-d286032ab563"
      },
      "execution_count": null,
      "outputs": [
        {
          "output_type": "execute_result",
          "data": {
            "text/plain": [
              "{'',\n",
              " '24-Hour Check-in',\n",
              " 'Air Conditioning',\n",
              " 'Breakfast',\n",
              " 'Buzzer/Wireless Intercom',\n",
              " 'Cable TV',\n",
              " 'Carbon Monoxide Detector',\n",
              " 'Cat(s)',\n",
              " 'Dog(s)',\n",
              " 'Doorman',\n",
              " 'Dryer',\n",
              " 'Elevator in Building',\n",
              " 'Essentials',\n",
              " 'Family/Kid Friendly',\n",
              " 'Fire Extinguisher',\n",
              " 'First Aid Kit',\n",
              " 'Free Parking on Premises',\n",
              " 'Gym',\n",
              " 'Hair Dryer',\n",
              " 'Hangers',\n",
              " 'Heating',\n",
              " 'Hot Tub',\n",
              " 'Indoor Fireplace',\n",
              " 'Internet',\n",
              " 'Iron',\n",
              " 'Kitchen',\n",
              " 'Laptop Friendly Workspace',\n",
              " 'Lock on Bedroom Door',\n",
              " 'Other pet(s)',\n",
              " 'Pets Allowed',\n",
              " 'Pets live on this property',\n",
              " 'Pool',\n",
              " 'Safety Card',\n",
              " 'Shampoo',\n",
              " 'Smoke Detector',\n",
              " 'Smoking Allowed',\n",
              " 'Suitable for Events',\n",
              " 'TV',\n",
              " 'Washer',\n",
              " 'Washer / Dryer',\n",
              " 'Wheelchair Accessible',\n",
              " 'Wireless Internet'}"
            ]
          },
          "metadata": {},
          "execution_count": 192
        }
      ]
    },
    {
      "cell_type": "code",
      "source": [
        "features_key.remove('')"
      ],
      "metadata": {
        "id": "T7KdG_OaxU8v"
      },
      "execution_count": null,
      "outputs": []
    },
    {
      "cell_type": "code",
      "source": [
        "for feat in features_key:\n",
        "    df['amenities__'+feat.replace(' ','_')] = df['amenities'].str.contains(feat).astype(int)"
      ],
      "metadata": {
        "colab": {
          "base_uri": "https://localhost:8080/"
        },
        "id": "Qr3lI0eCxa1n",
        "outputId": "ba85cbe0-947e-473e-f5ed-71dd93c17ece"
      },
      "execution_count": null,
      "outputs": [
        {
          "output_type": "stream",
          "name": "stderr",
          "text": [
            "<ipython-input-194-03a5194d3983>:2: UserWarning: This pattern is interpreted as a regular expression, and has match groups. To actually get the groups, use str.extract.\n",
            "  df['amenities__'+feat.replace(' ','_')] = df['amenities'].str.contains(feat).astype(int)\n",
            "<ipython-input-194-03a5194d3983>:2: UserWarning: This pattern is interpreted as a regular expression, and has match groups. To actually get the groups, use str.extract.\n",
            "  df['amenities__'+feat.replace(' ','_')] = df['amenities'].str.contains(feat).astype(int)\n",
            "<ipython-input-194-03a5194d3983>:2: UserWarning: This pattern is interpreted as a regular expression, and has match groups. To actually get the groups, use str.extract.\n",
            "  df['amenities__'+feat.replace(' ','_')] = df['amenities'].str.contains(feat).astype(int)\n"
          ]
        }
      ]
    },
    {
      "cell_type": "code",
      "source": [
        "df.columns"
      ],
      "metadata": {
        "colab": {
          "base_uri": "https://localhost:8080/"
        },
        "id": "Ftjo6_t3xdgg",
        "outputId": "c38a958e-6335-4e02-bf76-37f865257f70"
      },
      "execution_count": null,
      "outputs": [
        {
          "output_type": "execute_result",
          "data": {
            "text/plain": [
              "Index(['accommodates', 'amenities', 'availability_30', 'bathrooms', 'bed_type',\n",
              "       'bedrooms', 'beds', 'calculated_host_listings_count',\n",
              "       'cancellation_policy', 'guests_included', 'has_availability',\n",
              "       'host_is_superhost', 'host_listings_count', 'instant_bookable',\n",
              "       'latitude(North)', 'longitude(East)', 'maximum_nights',\n",
              "       'number_of_reviews', 'property_type', 'review_scores_checkin',\n",
              "       'review_scores_communication', 'review_scores_location',\n",
              "       'review_scores_rating', 'review_scores_value', 'room_type',\n",
              "       'amenities__Suitable_for_Events', 'amenities__Essentials',\n",
              "       'amenities__First_Aid_Kit', 'amenities__Laptop_Friendly_Workspace',\n",
              "       'amenities__Wheelchair_Accessible', 'amenities__Hot_Tub',\n",
              "       'amenities__Washer', 'amenities__Free_Parking_on_Premises',\n",
              "       'amenities__Indoor_Fireplace', 'amenities__Carbon_Monoxide_Detector',\n",
              "       'amenities__Breakfast', 'amenities__Cat(s)', 'amenities__Hangers',\n",
              "       'amenities__Heating', 'amenities__Dryer', 'amenities__TV',\n",
              "       'amenities__Iron', 'amenities__Safety_Card',\n",
              "       'amenities__Wireless_Internet', 'amenities__Dog(s)',\n",
              "       'amenities__24-Hour_Check-in', 'amenities__Kitchen',\n",
              "       'amenities__Hair_Dryer', 'amenities__Gym', 'amenities__Internet',\n",
              "       'amenities__Smoking_Allowed', 'amenities__Pool',\n",
              "       'amenities__Other_pet(s)', 'amenities__Family/Kid_Friendly',\n",
              "       'amenities__Shampoo', 'amenities__Buzzer/Wireless_Intercom',\n",
              "       'amenities__Pets_Allowed', 'amenities__Air_Conditioning',\n",
              "       'amenities__Pets_live_on_this_property', 'amenities__Cable_TV',\n",
              "       'amenities__Elevator_in_Building', 'amenities__Doorman',\n",
              "       'amenities__Lock_on_Bedroom_Door', 'amenities__Smoke_Detector',\n",
              "       'amenities__Washer_/_Dryer', 'amenities__Fire_Extinguisher'],\n",
              "      dtype='object')"
            ]
          },
          "metadata": {},
          "execution_count": 195
        }
      ]
    },
    {
      "cell_type": "code",
      "source": [
        "df.head(3).T"
      ],
      "metadata": {
        "colab": {
          "base_uri": "https://localhost:8080/",
          "height": 485
        },
        "id": "Dket1BwXxnq3",
        "outputId": "fa96f604-d17e-4ad2-fb8c-892399211542"
      },
      "execution_count": null,
      "outputs": [
        {
          "output_type": "execute_result",
          "data": {
            "text/plain": [
              "                                                                                 0  \\\n",
              "accommodates                                                                     6   \n",
              "amenities                        {\"Cable TV\",Internet,\"Wireless Internet\",\"Air ...   \n",
              "availability_30                                                                  0   \n",
              "bathrooms                                                                      2.5   \n",
              "bed_type                                                                  Real Bed   \n",
              "...                                                                            ...   \n",
              "amenities__Doorman                                                               0   \n",
              "amenities__Lock_on_Bedroom_Door                                                  0   \n",
              "amenities__Smoke_Detector                                                        1   \n",
              "amenities__Washer_/_Dryer                                                        0   \n",
              "amenities__Fire_Extinguisher                                                     1   \n",
              "\n",
              "                                                                                 1  \\\n",
              "accommodates                                                                     2   \n",
              "amenities                        {\"Air Conditioning\",Heating,\"Family/Kid Friend...   \n",
              "availability_30                                                                 29   \n",
              "bathrooms                                                                      0.0   \n",
              "bed_type                                                                     Futon   \n",
              "...                                                                            ...   \n",
              "amenities__Doorman                                                               0   \n",
              "amenities__Lock_on_Bedroom_Door                                                  0   \n",
              "amenities__Smoke_Detector                                                        1   \n",
              "amenities__Washer_/_Dryer                                                        0   \n",
              "amenities__Fire_Extinguisher                                                     1   \n",
              "\n",
              "                                                                                 2  \n",
              "accommodates                                                                     2  \n",
              "amenities                        {TV,\"Cable TV\",Internet,\"Wireless Internet\",\"A...  \n",
              "availability_30                                                                 30  \n",
              "bathrooms                                                                      1.5  \n",
              "bed_type                                                                  Real Bed  \n",
              "...                                                                            ...  \n",
              "amenities__Doorman                                                               0  \n",
              "amenities__Lock_on_Bedroom_Door                                                  1  \n",
              "amenities__Smoke_Detector                                                        1  \n",
              "amenities__Washer_/_Dryer                                                        0  \n",
              "amenities__Fire_Extinguisher                                                     1  \n",
              "\n",
              "[66 rows x 3 columns]"
            ],
            "text/html": [
              "\n",
              "  <div id=\"df-44733a80-0c16-4b52-ad21-cd1684728439\">\n",
              "    <div class=\"colab-df-container\">\n",
              "      <div>\n",
              "<style scoped>\n",
              "    .dataframe tbody tr th:only-of-type {\n",
              "        vertical-align: middle;\n",
              "    }\n",
              "\n",
              "    .dataframe tbody tr th {\n",
              "        vertical-align: top;\n",
              "    }\n",
              "\n",
              "    .dataframe thead th {\n",
              "        text-align: right;\n",
              "    }\n",
              "</style>\n",
              "<table border=\"1\" class=\"dataframe\">\n",
              "  <thead>\n",
              "    <tr style=\"text-align: right;\">\n",
              "      <th></th>\n",
              "      <th>0</th>\n",
              "      <th>1</th>\n",
              "      <th>2</th>\n",
              "    </tr>\n",
              "  </thead>\n",
              "  <tbody>\n",
              "    <tr>\n",
              "      <th>accommodates</th>\n",
              "      <td>6</td>\n",
              "      <td>2</td>\n",
              "      <td>2</td>\n",
              "    </tr>\n",
              "    <tr>\n",
              "      <th>amenities</th>\n",
              "      <td>{\"Cable TV\",Internet,\"Wireless Internet\",\"Air ...</td>\n",
              "      <td>{\"Air Conditioning\",Heating,\"Family/Kid Friend...</td>\n",
              "      <td>{TV,\"Cable TV\",Internet,\"Wireless Internet\",\"A...</td>\n",
              "    </tr>\n",
              "    <tr>\n",
              "      <th>availability_30</th>\n",
              "      <td>0</td>\n",
              "      <td>29</td>\n",
              "      <td>30</td>\n",
              "    </tr>\n",
              "    <tr>\n",
              "      <th>bathrooms</th>\n",
              "      <td>2.5</td>\n",
              "      <td>0.0</td>\n",
              "      <td>1.5</td>\n",
              "    </tr>\n",
              "    <tr>\n",
              "      <th>bed_type</th>\n",
              "      <td>Real Bed</td>\n",
              "      <td>Futon</td>\n",
              "      <td>Real Bed</td>\n",
              "    </tr>\n",
              "    <tr>\n",
              "      <th>...</th>\n",
              "      <td>...</td>\n",
              "      <td>...</td>\n",
              "      <td>...</td>\n",
              "    </tr>\n",
              "    <tr>\n",
              "      <th>amenities__Doorman</th>\n",
              "      <td>0</td>\n",
              "      <td>0</td>\n",
              "      <td>0</td>\n",
              "    </tr>\n",
              "    <tr>\n",
              "      <th>amenities__Lock_on_Bedroom_Door</th>\n",
              "      <td>0</td>\n",
              "      <td>0</td>\n",
              "      <td>1</td>\n",
              "    </tr>\n",
              "    <tr>\n",
              "      <th>amenities__Smoke_Detector</th>\n",
              "      <td>1</td>\n",
              "      <td>1</td>\n",
              "      <td>1</td>\n",
              "    </tr>\n",
              "    <tr>\n",
              "      <th>amenities__Washer_/_Dryer</th>\n",
              "      <td>0</td>\n",
              "      <td>0</td>\n",
              "      <td>0</td>\n",
              "    </tr>\n",
              "    <tr>\n",
              "      <th>amenities__Fire_Extinguisher</th>\n",
              "      <td>1</td>\n",
              "      <td>1</td>\n",
              "      <td>1</td>\n",
              "    </tr>\n",
              "  </tbody>\n",
              "</table>\n",
              "<p>66 rows × 3 columns</p>\n",
              "</div>\n",
              "      <button class=\"colab-df-convert\" onclick=\"convertToInteractive('df-44733a80-0c16-4b52-ad21-cd1684728439')\"\n",
              "              title=\"Convert this dataframe to an interactive table.\"\n",
              "              style=\"display:none;\">\n",
              "        \n",
              "  <svg xmlns=\"http://www.w3.org/2000/svg\" height=\"24px\"viewBox=\"0 0 24 24\"\n",
              "       width=\"24px\">\n",
              "    <path d=\"M0 0h24v24H0V0z\" fill=\"none\"/>\n",
              "    <path d=\"M18.56 5.44l.94 2.06.94-2.06 2.06-.94-2.06-.94-.94-2.06-.94 2.06-2.06.94zm-11 1L8.5 8.5l.94-2.06 2.06-.94-2.06-.94L8.5 2.5l-.94 2.06-2.06.94zm10 10l.94 2.06.94-2.06 2.06-.94-2.06-.94-.94-2.06-.94 2.06-2.06.94z\"/><path d=\"M17.41 7.96l-1.37-1.37c-.4-.4-.92-.59-1.43-.59-.52 0-1.04.2-1.43.59L10.3 9.45l-7.72 7.72c-.78.78-.78 2.05 0 2.83L4 21.41c.39.39.9.59 1.41.59.51 0 1.02-.2 1.41-.59l7.78-7.78 2.81-2.81c.8-.78.8-2.07 0-2.86zM5.41 20L4 18.59l7.72-7.72 1.47 1.35L5.41 20z\"/>\n",
              "  </svg>\n",
              "      </button>\n",
              "      \n",
              "  <style>\n",
              "    .colab-df-container {\n",
              "      display:flex;\n",
              "      flex-wrap:wrap;\n",
              "      gap: 12px;\n",
              "    }\n",
              "\n",
              "    .colab-df-convert {\n",
              "      background-color: #E8F0FE;\n",
              "      border: none;\n",
              "      border-radius: 50%;\n",
              "      cursor: pointer;\n",
              "      display: none;\n",
              "      fill: #1967D2;\n",
              "      height: 32px;\n",
              "      padding: 0 0 0 0;\n",
              "      width: 32px;\n",
              "    }\n",
              "\n",
              "    .colab-df-convert:hover {\n",
              "      background-color: #E2EBFA;\n",
              "      box-shadow: 0px 1px 2px rgba(60, 64, 67, 0.3), 0px 1px 3px 1px rgba(60, 64, 67, 0.15);\n",
              "      fill: #174EA6;\n",
              "    }\n",
              "\n",
              "    [theme=dark] .colab-df-convert {\n",
              "      background-color: #3B4455;\n",
              "      fill: #D2E3FC;\n",
              "    }\n",
              "\n",
              "    [theme=dark] .colab-df-convert:hover {\n",
              "      background-color: #434B5C;\n",
              "      box-shadow: 0px 1px 3px 1px rgba(0, 0, 0, 0.15);\n",
              "      filter: drop-shadow(0px 1px 2px rgba(0, 0, 0, 0.3));\n",
              "      fill: #FFFFFF;\n",
              "    }\n",
              "  </style>\n",
              "\n",
              "      <script>\n",
              "        const buttonEl =\n",
              "          document.querySelector('#df-44733a80-0c16-4b52-ad21-cd1684728439 button.colab-df-convert');\n",
              "        buttonEl.style.display =\n",
              "          google.colab.kernel.accessAllowed ? 'block' : 'none';\n",
              "\n",
              "        async function convertToInteractive(key) {\n",
              "          const element = document.querySelector('#df-44733a80-0c16-4b52-ad21-cd1684728439');\n",
              "          const dataTable =\n",
              "            await google.colab.kernel.invokeFunction('convertToInteractive',\n",
              "                                                     [key], {});\n",
              "          if (!dataTable) return;\n",
              "\n",
              "          const docLinkHtml = 'Like what you see? Visit the ' +\n",
              "            '<a target=\"_blank\" href=https://colab.research.google.com/notebooks/data_table.ipynb>data table notebook</a>'\n",
              "            + ' to learn more about interactive tables.';\n",
              "          element.innerHTML = '';\n",
              "          dataTable['output_type'] = 'display_data';\n",
              "          await google.colab.output.renderOutput(dataTable, element);\n",
              "          const docLink = document.createElement('div');\n",
              "          docLink.innerHTML = docLinkHtml;\n",
              "          element.appendChild(docLink);\n",
              "        }\n",
              "      </script>\n",
              "    </div>\n",
              "  </div>\n",
              "  "
            ]
          },
          "metadata": {},
          "execution_count": 196
        }
      ]
    },
    {
      "cell_type": "code",
      "source": [
        "#Convert dtypes object to label encoder\n",
        "df.select_dtypes(['object']).columns"
      ],
      "metadata": {
        "colab": {
          "base_uri": "https://localhost:8080/"
        },
        "id": "aOWT1k37x8zz",
        "outputId": "dbbd1aef-a8b6-42c6-9e2b-e080f9555982"
      },
      "execution_count": null,
      "outputs": [
        {
          "output_type": "execute_result",
          "data": {
            "text/plain": [
              "Index(['amenities', 'bed_type', 'cancellation_policy', 'has_availability',\n",
              "       'host_is_superhost', 'instant_bookable', 'property_type', 'room_type'],\n",
              "      dtype='object')"
            ]
          },
          "metadata": {},
          "execution_count": 197
        }
      ]
    },
    {
      "cell_type": "code",
      "source": [
        "col_object = ['bed_type', 'cancellation_policy', 'has_availability',\n",
        "       'host_is_superhost', 'instant_bookable', 'property_type', 'room_type']\n",
        "\n",
        "for col in col_object:\n",
        "    lbl_enc = LabelEncoder()\n",
        "    dflbl = lbl_enc.fit_transform(df[col])\n",
        "    df['lbl_' + col] = dflbl.reshape(-1,1)\n",
        "    #break "
      ],
      "metadata": {
        "id": "QlUMsAtNyLbt"
      },
      "execution_count": null,
      "outputs": []
    },
    {
      "cell_type": "code",
      "source": [
        "df.dtypes"
      ],
      "metadata": {
        "colab": {
          "base_uri": "https://localhost:8080/"
        },
        "id": "SgnFquDYyP-D",
        "outputId": "e1df4edf-a2ee-40cf-89e7-7d05d8f93c59"
      },
      "execution_count": null,
      "outputs": [
        {
          "output_type": "execute_result",
          "data": {
            "text/plain": [
              "accommodates               int64\n",
              "amenities                 object\n",
              "availability_30            int64\n",
              "bathrooms                float64\n",
              "bed_type                  object\n",
              "                          ...   \n",
              "lbl_has_availability       int64\n",
              "lbl_host_is_superhost      int64\n",
              "lbl_instant_bookable       int64\n",
              "lbl_property_type          int64\n",
              "lbl_room_type              int64\n",
              "Length: 73, dtype: object"
            ]
          },
          "metadata": {},
          "execution_count": 200
        }
      ]
    },
    {
      "cell_type": "code",
      "source": [
        "#Merge df_price to df\n",
        "df = pd.concat([df.reset_index(), df_price.reset_index()], axis=1)"
      ],
      "metadata": {
        "id": "DgZUeas_y3Dd"
      },
      "execution_count": null,
      "outputs": []
    },
    {
      "cell_type": "code",
      "source": [
        "df[df['price']==0]"
      ],
      "metadata": {
        "colab": {
          "base_uri": "https://localhost:8080/",
          "height": 209
        },
        "id": "MH9Tw5Ety-jd",
        "outputId": "62ad7afc-ef0f-44cb-cf85-61f81e98f102"
      },
      "execution_count": null,
      "outputs": [
        {
          "output_type": "execute_result",
          "data": {
            "text/plain": [
              "     index  accommodates                                          amenities  \\\n",
              "903    903             2  {TV,Internet,\"Wireless Internet\",\"Air Conditio...   \n",
              "\n",
              "     availability_30  bathrooms  bed_type  bedrooms  beds  \\\n",
              "903                0        1.0  Real Bed       1.0   1.0   \n",
              "\n",
              "     calculated_host_listings_count cancellation_policy  ...  \\\n",
              "903                               1            moderate  ...   \n",
              "\n",
              "     amenities__Fire_Extinguisher lbl_bed_type lbl_cancellation_policy  \\\n",
              "903                             1            4                       1   \n",
              "\n",
              "     lbl_has_availability lbl_host_is_superhost  lbl_instant_bookable  \\\n",
              "903                     0                     0                     0   \n",
              "\n",
              "     lbl_property_type  lbl_room_type  index price  \n",
              "903                  0              1    903   0.0  \n",
              "\n",
              "[1 rows x 76 columns]"
            ],
            "text/html": [
              "\n",
              "  <div id=\"df-dc0a4bf4-252c-4866-9a1d-50c79d77f67c\">\n",
              "    <div class=\"colab-df-container\">\n",
              "      <div>\n",
              "<style scoped>\n",
              "    .dataframe tbody tr th:only-of-type {\n",
              "        vertical-align: middle;\n",
              "    }\n",
              "\n",
              "    .dataframe tbody tr th {\n",
              "        vertical-align: top;\n",
              "    }\n",
              "\n",
              "    .dataframe thead th {\n",
              "        text-align: right;\n",
              "    }\n",
              "</style>\n",
              "<table border=\"1\" class=\"dataframe\">\n",
              "  <thead>\n",
              "    <tr style=\"text-align: right;\">\n",
              "      <th></th>\n",
              "      <th>index</th>\n",
              "      <th>accommodates</th>\n",
              "      <th>amenities</th>\n",
              "      <th>availability_30</th>\n",
              "      <th>bathrooms</th>\n",
              "      <th>bed_type</th>\n",
              "      <th>bedrooms</th>\n",
              "      <th>beds</th>\n",
              "      <th>calculated_host_listings_count</th>\n",
              "      <th>cancellation_policy</th>\n",
              "      <th>...</th>\n",
              "      <th>amenities__Fire_Extinguisher</th>\n",
              "      <th>lbl_bed_type</th>\n",
              "      <th>lbl_cancellation_policy</th>\n",
              "      <th>lbl_has_availability</th>\n",
              "      <th>lbl_host_is_superhost</th>\n",
              "      <th>lbl_instant_bookable</th>\n",
              "      <th>lbl_property_type</th>\n",
              "      <th>lbl_room_type</th>\n",
              "      <th>index</th>\n",
              "      <th>price</th>\n",
              "    </tr>\n",
              "  </thead>\n",
              "  <tbody>\n",
              "    <tr>\n",
              "      <th>903</th>\n",
              "      <td>903</td>\n",
              "      <td>2</td>\n",
              "      <td>{TV,Internet,\"Wireless Internet\",\"Air Conditio...</td>\n",
              "      <td>0</td>\n",
              "      <td>1.0</td>\n",
              "      <td>Real Bed</td>\n",
              "      <td>1.0</td>\n",
              "      <td>1.0</td>\n",
              "      <td>1</td>\n",
              "      <td>moderate</td>\n",
              "      <td>...</td>\n",
              "      <td>1</td>\n",
              "      <td>4</td>\n",
              "      <td>1</td>\n",
              "      <td>0</td>\n",
              "      <td>0</td>\n",
              "      <td>0</td>\n",
              "      <td>0</td>\n",
              "      <td>1</td>\n",
              "      <td>903</td>\n",
              "      <td>0.0</td>\n",
              "    </tr>\n",
              "  </tbody>\n",
              "</table>\n",
              "<p>1 rows × 76 columns</p>\n",
              "</div>\n",
              "      <button class=\"colab-df-convert\" onclick=\"convertToInteractive('df-dc0a4bf4-252c-4866-9a1d-50c79d77f67c')\"\n",
              "              title=\"Convert this dataframe to an interactive table.\"\n",
              "              style=\"display:none;\">\n",
              "        \n",
              "  <svg xmlns=\"http://www.w3.org/2000/svg\" height=\"24px\"viewBox=\"0 0 24 24\"\n",
              "       width=\"24px\">\n",
              "    <path d=\"M0 0h24v24H0V0z\" fill=\"none\"/>\n",
              "    <path d=\"M18.56 5.44l.94 2.06.94-2.06 2.06-.94-2.06-.94-.94-2.06-.94 2.06-2.06.94zm-11 1L8.5 8.5l.94-2.06 2.06-.94-2.06-.94L8.5 2.5l-.94 2.06-2.06.94zm10 10l.94 2.06.94-2.06 2.06-.94-2.06-.94-.94-2.06-.94 2.06-2.06.94z\"/><path d=\"M17.41 7.96l-1.37-1.37c-.4-.4-.92-.59-1.43-.59-.52 0-1.04.2-1.43.59L10.3 9.45l-7.72 7.72c-.78.78-.78 2.05 0 2.83L4 21.41c.39.39.9.59 1.41.59.51 0 1.02-.2 1.41-.59l7.78-7.78 2.81-2.81c.8-.78.8-2.07 0-2.86zM5.41 20L4 18.59l7.72-7.72 1.47 1.35L5.41 20z\"/>\n",
              "  </svg>\n",
              "      </button>\n",
              "      \n",
              "  <style>\n",
              "    .colab-df-container {\n",
              "      display:flex;\n",
              "      flex-wrap:wrap;\n",
              "      gap: 12px;\n",
              "    }\n",
              "\n",
              "    .colab-df-convert {\n",
              "      background-color: #E8F0FE;\n",
              "      border: none;\n",
              "      border-radius: 50%;\n",
              "      cursor: pointer;\n",
              "      display: none;\n",
              "      fill: #1967D2;\n",
              "      height: 32px;\n",
              "      padding: 0 0 0 0;\n",
              "      width: 32px;\n",
              "    }\n",
              "\n",
              "    .colab-df-convert:hover {\n",
              "      background-color: #E2EBFA;\n",
              "      box-shadow: 0px 1px 2px rgba(60, 64, 67, 0.3), 0px 1px 3px 1px rgba(60, 64, 67, 0.15);\n",
              "      fill: #174EA6;\n",
              "    }\n",
              "\n",
              "    [theme=dark] .colab-df-convert {\n",
              "      background-color: #3B4455;\n",
              "      fill: #D2E3FC;\n",
              "    }\n",
              "\n",
              "    [theme=dark] .colab-df-convert:hover {\n",
              "      background-color: #434B5C;\n",
              "      box-shadow: 0px 1px 3px 1px rgba(0, 0, 0, 0.15);\n",
              "      filter: drop-shadow(0px 1px 2px rgba(0, 0, 0, 0.3));\n",
              "      fill: #FFFFFF;\n",
              "    }\n",
              "  </style>\n",
              "\n",
              "      <script>\n",
              "        const buttonEl =\n",
              "          document.querySelector('#df-dc0a4bf4-252c-4866-9a1d-50c79d77f67c button.colab-df-convert');\n",
              "        buttonEl.style.display =\n",
              "          google.colab.kernel.accessAllowed ? 'block' : 'none';\n",
              "\n",
              "        async function convertToInteractive(key) {\n",
              "          const element = document.querySelector('#df-dc0a4bf4-252c-4866-9a1d-50c79d77f67c');\n",
              "          const dataTable =\n",
              "            await google.colab.kernel.invokeFunction('convertToInteractive',\n",
              "                                                     [key], {});\n",
              "          if (!dataTable) return;\n",
              "\n",
              "          const docLinkHtml = 'Like what you see? Visit the ' +\n",
              "            '<a target=\"_blank\" href=https://colab.research.google.com/notebooks/data_table.ipynb>data table notebook</a>'\n",
              "            + ' to learn more about interactive tables.';\n",
              "          element.innerHTML = '';\n",
              "          dataTable['output_type'] = 'display_data';\n",
              "          await google.colab.output.renderOutput(dataTable, element);\n",
              "          const docLink = document.createElement('div');\n",
              "          docLink.innerHTML = docLinkHtml;\n",
              "          element.appendChild(docLink);\n",
              "        }\n",
              "      </script>\n",
              "    </div>\n",
              "  </div>\n",
              "  "
            ]
          },
          "metadata": {},
          "execution_count": 202
        }
      ]
    },
    {
      "cell_type": "code",
      "source": [
        "#drop row with price = 0\n",
        "df = df.drop(df[df['price']==0].index, axis=0)"
      ],
      "metadata": {
        "id": "g_dxukrKzBLe"
      },
      "execution_count": null,
      "outputs": []
    },
    {
      "cell_type": "code",
      "source": [
        "import seaborn as sns"
      ],
      "metadata": {
        "id": "4YrwUkCB0Hcw"
      },
      "execution_count": null,
      "outputs": []
    },
    {
      "cell_type": "code",
      "source": [
        "df_property_type = df['property_type'].value_counts().reset_index()"
      ],
      "metadata": {
        "id": "BuCpIHqw6DCb"
      },
      "execution_count": null,
      "outputs": []
    },
    {
      "cell_type": "code",
      "source": [
        "plt.figure(figsize = (15,6))\n",
        "ax = sns.barplot(data=df_property_type, x='index', y='property_type')\n",
        "plt.xlabel(\"Property Type\")\n",
        "plt.ylabel(\"Total\")\n",
        "g = ax.set_xticklabels(ax.get_xticklabels(),rotation = 90)"
      ],
      "metadata": {
        "colab": {
          "base_uri": "https://localhost:8080/",
          "height": 459
        },
        "id": "Xh7fyTa25lGL",
        "outputId": "8c7841db-530a-4ae4-a345-858925b82dde"
      },
      "execution_count": null,
      "outputs": [
        {
          "output_type": "display_data",
          "data": {
            "text/plain": [
              "<Figure size 1080x432 with 1 Axes>"
            ],
            "image/png": "[encoded data removed]"
          },
          "metadata": {
            "needs_background": "light"
          }
        }
      ]
    },
    {
      "cell_type": "code",
      "source": [
        "df_property_type.iloc[2] = df_property_type.iloc[2:].sum()\n",
        "df_property_type = df_property_type.iloc[:2+1]"
      ],
      "metadata": {
        "id": "d6ECzpzx6Ikq"
      },
      "execution_count": null,
      "outputs": []
    },
    {
      "cell_type": "code",
      "source": [
        "df_property_type['index'][2] = 'Others'"
      ],
      "metadata": {
        "colab": {
          "base_uri": "https://localhost:8080/"
        },
        "id": "2TeIWfyJ6udf",
        "outputId": "8d95224a-ed4f-4c5e-e361-2919e093bd38"
      },
      "execution_count": null,
      "outputs": [
        {
          "output_type": "stream",
          "name": "stderr",
          "text": [
            "<ipython-input-208-0cbce43958d3>:1: SettingWithCopyWarning: \n",
            "A value is trying to be set on a copy of a slice from a DataFrame\n",
            "\n",
            "See the caveats in the documentation: https://pandas.pydata.org/pandas-docs/stable/user_guide/indexing.html#returning-a-view-versus-a-copy\n",
            "  df_property_type['index'][2] = 'Others'\n"
          ]
        }
      ]
    },
    {
      "cell_type": "code",
      "source": [
        "df_property_type"
      ],
      "metadata": {
        "colab": {
          "base_uri": "https://localhost:8080/",
          "height": 143
        },
        "id": "eqbDa_1e6ya-",
        "outputId": "8153d7d2-1276-4a42-c7c6-8c15f7e1ee0b"
      },
      "execution_count": null,
      "outputs": [
        {
          "output_type": "execute_result",
          "data": {
            "text/plain": [
              "       index  property_type\n",
              "0      House           3549\n",
              "1  Apartment           1854\n",
              "2     Others            430"
            ],
            "text/html": [
              "\n",
              "  <div id=\"df-d46cc36f-cd62-4717-8d76-15e2d4249337\">\n",
              "    <div class=\"colab-df-container\">\n",
              "      <div>\n",
              "<style scoped>\n",
              "    .dataframe tbody tr th:only-of-type {\n",
              "        vertical-align: middle;\n",
              "    }\n",
              "\n",
              "    .dataframe tbody tr th {\n",
              "        vertical-align: top;\n",
              "    }\n",
              "\n",
              "    .dataframe thead th {\n",
              "        text-align: right;\n",
              "    }\n",
              "</style>\n",
              "<table border=\"1\" class=\"dataframe\">\n",
              "  <thead>\n",
              "    <tr style=\"text-align: right;\">\n",
              "      <th></th>\n",
              "      <th>index</th>\n",
              "      <th>property_type</th>\n",
              "    </tr>\n",
              "  </thead>\n",
              "  <tbody>\n",
              "    <tr>\n",
              "      <th>0</th>\n",
              "      <td>House</td>\n",
              "      <td>3549</td>\n",
              "    </tr>\n",
              "    <tr>\n",
              "      <th>1</th>\n",
              "      <td>Apartment</td>\n",
              "      <td>1854</td>\n",
              "    </tr>\n",
              "    <tr>\n",
              "      <th>2</th>\n",
              "      <td>Others</td>\n",
              "      <td>430</td>\n",
              "    </tr>\n",
              "  </tbody>\n",
              "</table>\n",
              "</div>\n",
              "      <button class=\"colab-df-convert\" onclick=\"convertToInteractive('df-d46cc36f-cd62-4717-8d76-15e2d4249337')\"\n",
              "              title=\"Convert this dataframe to an interactive table.\"\n",
              "              style=\"display:none;\">\n",
              "        \n",
              "  <svg xmlns=\"http://www.w3.org/2000/svg\" height=\"24px\"viewBox=\"0 0 24 24\"\n",
              "       width=\"24px\">\n",
              "    <path d=\"M0 0h24v24H0V0z\" fill=\"none\"/>\n",
              "    <path d=\"M18.56 5.44l.94 2.06.94-2.06 2.06-.94-2.06-.94-.94-2.06-.94 2.06-2.06.94zm-11 1L8.5 8.5l.94-2.06 2.06-.94-2.06-.94L8.5 2.5l-.94 2.06-2.06.94zm10 10l.94 2.06.94-2.06 2.06-.94-2.06-.94-.94-2.06-.94 2.06-2.06.94z\"/><path d=\"M17.41 7.96l-1.37-1.37c-.4-.4-.92-.59-1.43-.59-.52 0-1.04.2-1.43.59L10.3 9.45l-7.72 7.72c-.78.78-.78 2.05 0 2.83L4 21.41c.39.39.9.59 1.41.59.51 0 1.02-.2 1.41-.59l7.78-7.78 2.81-2.81c.8-.78.8-2.07 0-2.86zM5.41 20L4 18.59l7.72-7.72 1.47 1.35L5.41 20z\"/>\n",
              "  </svg>\n",
              "      </button>\n",
              "      \n",
              "  <style>\n",
              "    .colab-df-container {\n",
              "      display:flex;\n",
              "      flex-wrap:wrap;\n",
              "      gap: 12px;\n",
              "    }\n",
              "\n",
              "    .colab-df-convert {\n",
              "      background-color: #E8F0FE;\n",
              "      border: none;\n",
              "      border-radius: 50%;\n",
              "      cursor: pointer;\n",
              "      display: none;\n",
              "      fill: #1967D2;\n",
              "      height: 32px;\n",
              "      padding: 0 0 0 0;\n",
              "      width: 32px;\n",
              "    }\n",
              "\n",
              "    .colab-df-convert:hover {\n",
              "      background-color: #E2EBFA;\n",
              "      box-shadow: 0px 1px 2px rgba(60, 64, 67, 0.3), 0px 1px 3px 1px rgba(60, 64, 67, 0.15);\n",
              "      fill: #174EA6;\n",
              "    }\n",
              "\n",
              "    [theme=dark] .colab-df-convert {\n",
              "      background-color: #3B4455;\n",
              "      fill: #D2E3FC;\n",
              "    }\n",
              "\n",
              "    [theme=dark] .colab-df-convert:hover {\n",
              "      background-color: #434B5C;\n",
              "      box-shadow: 0px 1px 3px 1px rgba(0, 0, 0, 0.15);\n",
              "      filter: drop-shadow(0px 1px 2px rgba(0, 0, 0, 0.3));\n",
              "      fill: #FFFFFF;\n",
              "    }\n",
              "  </style>\n",
              "\n",
              "      <script>\n",
              "        const buttonEl =\n",
              "          document.querySelector('#df-d46cc36f-cd62-4717-8d76-15e2d4249337 button.colab-df-convert');\n",
              "        buttonEl.style.display =\n",
              "          google.colab.kernel.accessAllowed ? 'block' : 'none';\n",
              "\n",
              "        async function convertToInteractive(key) {\n",
              "          const element = document.querySelector('#df-d46cc36f-cd62-4717-8d76-15e2d4249337');\n",
              "          const dataTable =\n",
              "            await google.colab.kernel.invokeFunction('convertToInteractive',\n",
              "                                                     [key], {});\n",
              "          if (!dataTable) return;\n",
              "\n",
              "          const docLinkHtml = 'Like what you see? Visit the ' +\n",
              "            '<a target=\"_blank\" href=https://colab.research.google.com/notebooks/data_table.ipynb>data table notebook</a>'\n",
              "            + ' to learn more about interactive tables.';\n",
              "          element.innerHTML = '';\n",
              "          dataTable['output_type'] = 'display_data';\n",
              "          await google.colab.output.renderOutput(dataTable, element);\n",
              "          const docLink = document.createElement('div');\n",
              "          docLink.innerHTML = docLinkHtml;\n",
              "          element.appendChild(docLink);\n",
              "        }\n",
              "      </script>\n",
              "    </div>\n",
              "  </div>\n",
              "  "
            ]
          },
          "metadata": {},
          "execution_count": 209
        }
      ]
    },
    {
      "cell_type": "code",
      "source": [
        "palette_color = sns.color_palette('bright')\n",
        "plt.pie(df_property_type['property_type'], labels=df_property_type['index'], colors=palette_color, autopct='%.0f%%')\n",
        "plt.show()"
      ],
      "metadata": {
        "colab": {
          "base_uri": "https://localhost:8080/",
          "height": 248
        },
        "id": "bCkVNKfV61nc",
        "outputId": "f7b78787-5408-4475-8cef-6606c2d60f71"
      },
      "execution_count": null,
      "outputs": [
        {
          "output_type": "display_data",
          "data": {
            "text/plain": [
              "<Figure size 432x288 with 1 Axes>"
            ],
            "image/png": "[encoded data removed]"
          },
          "metadata": {}
        }
      ]
    },
    {
      "cell_type": "code",
      "source": [
        "df_instant_bookable = df['instant_bookable'].value_counts().reset_index()"
      ],
      "metadata": {
        "id": "Mhxv-nub7Uvf"
      },
      "execution_count": null,
      "outputs": []
    },
    {
      "cell_type": "code",
      "source": [
        "df_instant_bookable"
      ],
      "metadata": {
        "colab": {
          "base_uri": "https://localhost:8080/",
          "height": 112
        },
        "id": "3h6VdAKR7YVr",
        "outputId": "a6c81a51-f3ee-42e3-88ea-0bb9a7db0cb2"
      },
      "execution_count": null,
      "outputs": [
        {
          "output_type": "execute_result",
          "data": {
            "text/plain": [
              "  index  instant_bookable\n",
              "0     f              5311\n",
              "1     t               522"
            ],
            "text/html": [
              "\n",
              "  <div id=\"df-3cf2868c-710e-4f50-98f2-d0c2bf9f58aa\">\n",
              "    <div class=\"colab-df-container\">\n",
              "      <div>\n",
              "<style scoped>\n",
              "    .dataframe tbody tr th:only-of-type {\n",
              "        vertical-align: middle;\n",
              "    }\n",
              "\n",
              "    .dataframe tbody tr th {\n",
              "        vertical-align: top;\n",
              "    }\n",
              "\n",
              "    .dataframe thead th {\n",
              "        text-align: right;\n",
              "    }\n",
              "</style>\n",
              "<table border=\"1\" class=\"dataframe\">\n",
              "  <thead>\n",
              "    <tr style=\"text-align: right;\">\n",
              "      <th></th>\n",
              "      <th>index</th>\n",
              "      <th>instant_bookable</th>\n",
              "    </tr>\n",
              "  </thead>\n",
              "  <tbody>\n",
              "    <tr>\n",
              "      <th>0</th>\n",
              "      <td>f</td>\n",
              "      <td>5311</td>\n",
              "    </tr>\n",
              "    <tr>\n",
              "      <th>1</th>\n",
              "      <td>t</td>\n",
              "      <td>522</td>\n",
              "    </tr>\n",
              "  </tbody>\n",
              "</table>\n",
              "</div>\n",
              "      <button class=\"colab-df-convert\" onclick=\"convertToInteractive('df-3cf2868c-710e-4f50-98f2-d0c2bf9f58aa')\"\n",
              "              title=\"Convert this dataframe to an interactive table.\"\n",
              "              style=\"display:none;\">\n",
              "        \n",
              "  <svg xmlns=\"http://www.w3.org/2000/svg\" height=\"24px\"viewBox=\"0 0 24 24\"\n",
              "       width=\"24px\">\n",
              "    <path d=\"M0 0h24v24H0V0z\" fill=\"none\"/>\n",
              "    <path d=\"M18.56 5.44l.94 2.06.94-2.06 2.06-.94-2.06-.94-.94-2.06-.94 2.06-2.06.94zm-11 1L8.5 8.5l.94-2.06 2.06-.94-2.06-.94L8.5 2.5l-.94 2.06-2.06.94zm10 10l.94 2.06.94-2.06 2.06-.94-2.06-.94-.94-2.06-.94 2.06-2.06.94z\"/><path d=\"M17.41 7.96l-1.37-1.37c-.4-.4-.92-.59-1.43-.59-.52 0-1.04.2-1.43.59L10.3 9.45l-7.72 7.72c-.78.78-.78 2.05 0 2.83L4 21.41c.39.39.9.59 1.41.59.51 0 1.02-.2 1.41-.59l7.78-7.78 2.81-2.81c.8-.78.8-2.07 0-2.86zM5.41 20L4 18.59l7.72-7.72 1.47 1.35L5.41 20z\"/>\n",
              "  </svg>\n",
              "      </button>\n",
              "      \n",
              "  <style>\n",
              "    .colab-df-container {\n",
              "      display:flex;\n",
              "      flex-wrap:wrap;\n",
              "      gap: 12px;\n",
              "    }\n",
              "\n",
              "    .colab-df-convert {\n",
              "      background-color: #E8F0FE;\n",
              "      border: none;\n",
              "      border-radius: 50%;\n",
              "      cursor: pointer;\n",
              "      display: none;\n",
              "      fill: #1967D2;\n",
              "      height: 32px;\n",
              "      padding: 0 0 0 0;\n",
              "      width: 32px;\n",
              "    }\n",
              "\n",
              "    .colab-df-convert:hover {\n",
              "      background-color: #E2EBFA;\n",
              "      box-shadow: 0px 1px 2px rgba(60, 64, 67, 0.3), 0px 1px 3px 1px rgba(60, 64, 67, 0.15);\n",
              "      fill: #174EA6;\n",
              "    }\n",
              "\n",
              "    [theme=dark] .colab-df-convert {\n",
              "      background-color: #3B4455;\n",
              "      fill: #D2E3FC;\n",
              "    }\n",
              "\n",
              "    [theme=dark] .colab-df-convert:hover {\n",
              "      background-color: #434B5C;\n",
              "      box-shadow: 0px 1px 3px 1px rgba(0, 0, 0, 0.15);\n",
              "      filter: drop-shadow(0px 1px 2px rgba(0, 0, 0, 0.3));\n",
              "      fill: #FFFFFF;\n",
              "    }\n",
              "  </style>\n",
              "\n",
              "      <script>\n",
              "        const buttonEl =\n",
              "          document.querySelector('#df-3cf2868c-710e-4f50-98f2-d0c2bf9f58aa button.colab-df-convert');\n",
              "        buttonEl.style.display =\n",
              "          google.colab.kernel.accessAllowed ? 'block' : 'none';\n",
              "\n",
              "        async function convertToInteractive(key) {\n",
              "          const element = document.querySelector('#df-3cf2868c-710e-4f50-98f2-d0c2bf9f58aa');\n",
              "          const dataTable =\n",
              "            await google.colab.kernel.invokeFunction('convertToInteractive',\n",
              "                                                     [key], {});\n",
              "          if (!dataTable) return;\n",
              "\n",
              "          const docLinkHtml = 'Like what you see? Visit the ' +\n",
              "            '<a target=\"_blank\" href=https://colab.research.google.com/notebooks/data_table.ipynb>data table notebook</a>'\n",
              "            + ' to learn more about interactive tables.';\n",
              "          element.innerHTML = '';\n",
              "          dataTable['output_type'] = 'display_data';\n",
              "          await google.colab.output.renderOutput(dataTable, element);\n",
              "          const docLink = document.createElement('div');\n",
              "          docLink.innerHTML = docLinkHtml;\n",
              "          element.appendChild(docLink);\n",
              "        }\n",
              "      </script>\n",
              "    </div>\n",
              "  </div>\n",
              "  "
            ]
          },
          "metadata": {},
          "execution_count": 212
        }
      ]
    },
    {
      "cell_type": "code",
      "source": [
        "plt.figure(figsize = (10,10))\n",
        "ax = sns.barplot(data=df_instant_bookable, x='index', y='instant_bookable')\n",
        "plt.xlabel(\"Instant Bookable\")\n",
        "plt.ylabel(\"Total\")\n",
        "g = ax.set_xticklabels(ax.get_xticklabels(),rotation = 90)"
      ],
      "metadata": {
        "colab": {
          "base_uri": "https://localhost:8080/",
          "height": 599
        },
        "id": "eLvmfwz67BqH",
        "outputId": "e57376fd-e71d-4d4b-8b3f-11450abe32ad"
      },
      "execution_count": null,
      "outputs": [
        {
          "output_type": "display_data",
          "data": {
            "text/plain": [
              "<Figure size 720x720 with 1 Axes>"
            ],
            "image/png": "[encoded data removed]"
          },
          "metadata": {
            "needs_background": "light"
          }
        }
      ]
    },
    {
      "cell_type": "code",
      "source": [
        "df.groupby(['bedrooms'])['price'].mean()"
      ],
      "metadata": {
        "colab": {
          "base_uri": "https://localhost:8080/"
        },
        "id": "JWqcEqwF-Ubq",
        "outputId": "d1cd8297-6913-4690-a915-934154708f7e"
      },
      "execution_count": null,
      "outputs": [
        {
          "output_type": "execute_result",
          "data": {
            "text/plain": [
              "bedrooms\n",
              "0.0      166.113360\n",
              "1.0      138.867470\n",
              "2.0      299.999221\n",
              "3.0      495.755932\n",
              "4.0      765.073718\n",
              "5.0     1072.337838\n",
              "6.0     1806.583333\n",
              "7.0     1107.666667\n",
              "8.0     2234.800000\n",
              "10.0    1273.500000\n",
              "Name: price, dtype: float64"
            ]
          },
          "metadata": {},
          "execution_count": 214
        }
      ]
    },
    {
      "cell_type": "code",
      "source": [
        "ax = sns.barplot(data=df.groupby(['bedrooms'])['price'].mean().reset_index(), x='bedrooms', y='price')\n",
        "plt.xlabel(\"Bedrooms\")\n",
        "plt.ylabel(\"Avg Price\")\n",
        "g = ax.set_xticklabels(ax.get_xticklabels(),rotation = 90)"
      ],
      "metadata": {
        "colab": {
          "base_uri": "https://localhost:8080/",
          "height": 291
        },
        "id": "MksalOwj-Yja",
        "outputId": "f1bbad2d-2d2c-4be6-83c4-a03f20711f97"
      },
      "execution_count": null,
      "outputs": [
        {
          "output_type": "display_data",
          "data": {
            "text/plain": [
              "<Figure size 432x288 with 1 Axes>"
            ],
            "image/png": "[encoded data removed]"
          },
          "metadata": {
            "needs_background": "light"
          }
        }
      ]
    },
    {
      "cell_type": "code",
      "source": [
        "df['review_scores_communication'].unique()"
      ],
      "metadata": {
        "colab": {
          "base_uri": "https://localhost:8080/"
        },
        "id": "Ud9D-LGJ-jfy",
        "outputId": "12c301a1-fb77-4b9e-9678-de584505cf5d"
      },
      "execution_count": null,
      "outputs": [
        {
          "output_type": "execute_result",
          "data": {
            "text/plain": [
              "array([10.,  9.,  8.,  6.,  4.,  2.,  7.])"
            ]
          },
          "metadata": {},
          "execution_count": 216
        }
      ]
    },
    {
      "cell_type": "code",
      "source": [
        "sns.histplot(df['review_scores_communication'])"
      ],
      "metadata": {
        "colab": {
          "base_uri": "https://localhost:8080/",
          "height": 300
        },
        "id": "gCT8hpZP-nLs",
        "outputId": "2cd30f06-71a1-446e-b0ef-5f30483812a4"
      },
      "execution_count": null,
      "outputs": [
        {
          "output_type": "execute_result",
          "data": {
            "text/plain": [
              "<Axes: xlabel='review_scores_communication', ylabel='Count'>"
            ]
          },
          "metadata": {},
          "execution_count": 217
        },
        {
          "output_type": "display_data",
          "data": {
            "text/plain": [
              "<Figure size 432x288 with 1 Axes>"
            ],
            "image/png": "[encoded data removed]"
          },
          "metadata": {
            "needs_background": "light"
          }
        }
      ]
    },
    {
      "cell_type": "code",
      "source": [
        "# creating a class for Lasso Regression\n",
        "\n",
        "class Lasso_Regression():\n",
        "\n",
        "  #initiating the hyperparameters\n",
        "  def __init__(self, learning_rate, no_of_iterations, lambda_parameter):\n",
        "\n",
        "    self.learning_rate = 0.1\n",
        "\n",
        "    self.no_of_iterations = 100\n",
        "\n",
        "    self.lambda_parameter = 0.1\n",
        "\n",
        "\n",
        "  # fitting the dataset to the Lasso Regression model\n",
        "  def fit(self, X, Y):\n",
        "\n",
        "    # m --> number of Data points --> number of rows\n",
        "    # n --> number of input features --> number of columns\n",
        "    self.m, self.n = X.shape\n",
        "\n",
        "    self.w = np.zeros(self.n)\n",
        "\n",
        "    self.b = 0\n",
        "\n",
        "    self.X = X\n",
        "\n",
        "    self.Y = Y\n",
        "\n",
        "    # implementing Gradient Descent algorithm for Optimization\n",
        "\n",
        "    for i in range(self.no_of_iterations):\n",
        "      self.update_weights()\n",
        "\n",
        "\n",
        "  # function for updating the weight & bias value\n",
        "  def update_weights(self):\n",
        "\n",
        "    # linear equation of the model\n",
        "    Y_prediction = self.predict(self.X)\n",
        "\n",
        "    # gradients (dw, db)\n",
        "\n",
        "    # gradient for weight\n",
        "    dw = np.zeros(self.n)\n",
        "\n",
        "    for i in range(self.n):\n",
        "\n",
        "      if self.w[i]>0:\n",
        "\n",
        "        dw[i] = (-(2*(self.X[:,i]).dot(self.Y - Y_prediction)) + self.lambda_parameter) / self.m \n",
        "\n",
        "      else :\n",
        "\n",
        "        dw[i] = (-(2*(self.X[:,i]).dot(self.Y - Y_prediction)) - self.lambda_parameter) / self.m\n",
        "\n",
        "\n",
        "    # gradient for bias\n",
        "    db = - 2 * np.sum(self.Y - Y_prediction) / self.m\n",
        "\n",
        "\n",
        "    # updating the weights & bias\n",
        "\n",
        "    self.w = self.w - self.learning_rate*dw\n",
        "    self.b = self.b - self.learning_rate*db\n",
        "\n",
        "    \n",
        "\n",
        "\n",
        "  # Predicting the Target variable\n",
        "  def predict(self,X):\n",
        "\n",
        "    return X.dot(self.w) + self.b"
      ],
      "metadata": {
        "id": "_khHxEBi71Sa"
      },
      "execution_count": null,
      "outputs": []
    },
    {
      "cell_type": "code",
      "source": [
        "# Split the data into training and testing sets\n",
        "train_size = int(0.8 * len(df))\n",
        "X_train, y_train = X[:train_size], y[:train_size]\n",
        "X_test, y_test = X[train_size:], y[train_size:]"
      ],
      "metadata": {
        "id": "cM10gfe19uUs"
      },
      "execution_count": null,
      "outputs": []
    },
    {
      "cell_type": "code",
      "source": [
        "def mean_squared_error(Y_true, Y_pred):\n",
        "    # Compute the mean squared error between Y_true and Y_pred\n",
        "    mse = np.mean((Y_true - Y_pred)**2)\n",
        "    return mse"
      ],
      "metadata": {
        "id": "xA_YFrGDBGXM"
      },
      "execution_count": null,
      "outputs": []
    },
    {
      "cell_type": "code",
      "source": [
        "def r2_score(y_true, y_pred):\n",
        "    '''\n",
        "    Calculate R2 score from scratch.\n",
        "    \n",
        "    Parameters:\n",
        "        y_true (array-like): true y values.\n",
        "        y_pred (array-like): predicted y values.\n",
        "        \n",
        "    Returns:\n",
        "        r2_score (float): R2 score.\n",
        "    '''\n",
        "    import numpy as np\n",
        "    \n",
        "    # Calculate the mean of the dependent variable y\n",
        "    y_mean = np.mean(y_true)\n",
        "    \n",
        "    # Calculate the total sum of squares (TSS)\n",
        "    tss = np.sum((y_true - y_mean)**2)\n",
        "    \n",
        "    # Calculate the residual sum of squares (RSS)\n",
        "    rss = np.sum((y_true - y_pred)**2)\n",
        "    \n",
        "    # Calculate R2 score\n",
        "    r2_score = 1 - (rss / tss)\n",
        "    \n",
        "    return r2_score"
      ],
      "metadata": {
        "id": "hEvVwwXmBLIT"
      },
      "execution_count": null,
      "outputs": []
    },
    {
      "cell_type": "code",
      "source": [
        "#define the parameters\n",
        "param = {\n",
        "    \"lamda\" : 0.1,\n",
        "    \"learning_rate\" : 0.1,\n",
        "    \"iteration\" : 100\n",
        "}\n",
        "print(\"=\"*100)\n",
        "linear_reg = LassoRegression(**param)\n",
        "\n",
        "# Train the model.\n",
        "linear_reg.train(X, y) \n",
        "\n",
        "# Predict the values.\n",
        "y_pred = linear_reg.predict(X)\n",
        "#Root mean square error.\n",
        "score = r2_score(y, y_pred)\n",
        "print(\"The r2_score of the trained model\", score)\n",
        "# mse of test and pred \n",
        "mse = mean_squared_error(y, y_pred)\n",
        "print(\"Mean squared error:\", mse)"
      ],
      "metadata": {
        "colab": {
          "base_uri": "https://localhost:8080/"
        },
        "id": "BzRMVmyqBQF4",
        "outputId": "f2e60b7c-ae32-410d-8d77-6603cfdfc999"
      },
      "execution_count": null,
      "outputs": [
        {
          "output_type": "stream",
          "name": "stdout",
          "text": [
            "====================================================================================================\n",
            "The Cost function for the iteration 10----->1577.093931812827 :)\n",
            "The Cost function for the iteration 20----->222.91216477270254 :)\n",
            "The Cost function for the iteration 30----->56.64858271223108 :)\n",
            "The Cost function for the iteration 40----->36.23379710306502 :)\n",
            "The Cost function for the iteration 50----->33.726684096696815 :)\n",
            "The Cost function for the iteration 60----->33.41864667532714 :)\n",
            "The Cost function for the iteration 70----->33.38074223003724 :)\n",
            "The Cost function for the iteration 80----->33.3760538036789 :)\n",
            "The Cost function for the iteration 90----->33.37546380742714 :)\n",
            "The Cost function for the iteration 100----->33.37538548814968 :)\n",
            "The r2_score of the trained model 0.9999959761195488\n",
            "Mean squared error: 0.08234505114838808\n"
          ]
        }
      ]
    },
    {
      "cell_type": "code",
      "source": [
        "# Import necessary modules\n",
        "import numpy as np\n",
        "from sklearn.linear_model import Lasso\n",
        "from sklearn.model_selection import train_test_split\n",
        "from sklearn.metrics import mean_squared_error\n",
        "from sklearn.metrics import r2_score"
      ],
      "metadata": {
        "id": "MHmEU37UFjdk"
      },
      "execution_count": null,
      "outputs": []
    },
    {
      "cell_type": "code",
      "source": [
        "# Split the data into training and testing sets\n",
        "X_train, X_test, y_train, y_test = train_test_split(X, y, test_size=0.2, random_state=42)"
      ],
      "metadata": {
        "id": "6AVceykdFqDJ"
      },
      "execution_count": null,
      "outputs": []
    },
    {
      "cell_type": "code",
      "source": [
        "# Instantiate a Lasso regression model\n",
        "lasso_reg = Lasso(alpha=0.1)"
      ],
      "metadata": {
        "id": "ExjkCCzRFsaK"
      },
      "execution_count": null,
      "outputs": []
    },
    {
      "cell_type": "code",
      "source": [
        "\n",
        "# Fit the model on the training data\n",
        "lasso_reg.fit(X_train, y_train)"
      ],
      "metadata": {
        "colab": {
          "base_uri": "https://localhost:8080/",
          "height": 74
        },
        "id": "JalRUi8eFvRA",
        "outputId": "c469c036-b73e-4b32-ca60-c880d6e1b261"
      },
      "execution_count": null,
      "outputs": [
        {
          "output_type": "execute_result",
          "data": {
            "text/plain": [
              "Lasso(alpha=0.1)"
            ],
            "text/html": [
              "<style>#sk-container-id-1 {color: black;background-color: white;}#sk-container-id-1 pre{padding: 0;}#sk-container-id-1 div.sk-toggleable {background-color: white;}#sk-container-id-1 label.sk-toggleable__label {cursor: pointer;display: block;width: 100%;margin-bottom: 0;padding: 0.3em;box-sizing: border-box;text-align: center;}#sk-container-id-1 label.sk-toggleable__label-arrow:before {content: \"▸\";float: left;margin-right: 0.25em;color: #696969;}#sk-container-id-1 label.sk-toggleable__label-arrow:hover:before {color: black;}#sk-container-id-1 div.sk-estimator:hover label.sk-toggleable__label-arrow:before {color: black;}#sk-container-id-1 div.sk-toggleable__content {max-height: 0;max-width: 0;overflow: hidden;text-align: left;background-color: #f0f8ff;}#sk-container-id-1 div.sk-toggleable__content pre {margin: 0.2em;color: black;border-radius: 0.25em;background-color: #f0f8ff;}#sk-container-id-1 input.sk-toggleable__control:checked~div.sk-toggleable__content {max-height: 200px;max-width: 100%;overflow: auto;}#sk-container-id-1 input.sk-toggleable__control:checked~label.sk-toggleable__label-arrow:before {content: \"▾\";}#sk-container-id-1 div.sk-estimator input.sk-toggleable__control:checked~label.sk-toggleable__label {background-color: #d4ebff;}#sk-container-id-1 div.sk-label input.sk-toggleable__control:checked~label.sk-toggleable__label {background-color: #d4ebff;}#sk-container-id-1 input.sk-hidden--visually {border: 0;clip: rect(1px 1px 1px 1px);clip: rect(1px, 1px, 1px, 1px);height: 1px;margin: -1px;overflow: hidden;padding: 0;position: absolute;width: 1px;}#sk-container-id-1 div.sk-estimator {font-family: monospace;background-color: #f0f8ff;border: 1px dotted black;border-radius: 0.25em;box-sizing: border-box;margin-bottom: 0.5em;}#sk-container-id-1 div.sk-estimator:hover {background-color: #d4ebff;}#sk-container-id-1 div.sk-parallel-item::after {content: \"\";width: 100%;border-bottom: 1px solid gray;flex-grow: 1;}#sk-container-id-1 div.sk-label:hover label.sk-toggleable__label {background-color: #d4ebff;}#sk-container-id-1 div.sk-serial::before {content: \"\";position: absolute;border-left: 1px solid gray;box-sizing: border-box;top: 0;bottom: 0;left: 50%;z-index: 0;}#sk-container-id-1 div.sk-serial {display: flex;flex-direction: column;align-items: center;background-color: white;padding-right: 0.2em;padding-left: 0.2em;position: relative;}#sk-container-id-1 div.sk-item {position: relative;z-index: 1;}#sk-container-id-1 div.sk-parallel {display: flex;align-items: stretch;justify-content: center;background-color: white;position: relative;}#sk-container-id-1 div.sk-item::before, #sk-container-id-1 div.sk-parallel-item::before {content: \"\";position: absolute;border-left: 1px solid gray;box-sizing: border-box;top: 0;bottom: 0;left: 50%;z-index: -1;}#sk-container-id-1 div.sk-parallel-item {display: flex;flex-direction: column;z-index: 1;position: relative;background-color: white;}#sk-container-id-1 div.sk-parallel-item:first-child::after {align-self: flex-end;width: 50%;}#sk-container-id-1 div.sk-parallel-item:last-child::after {align-self: flex-start;width: 50%;}#sk-container-id-1 div.sk-parallel-item:only-child::after {width: 0;}#sk-container-id-1 div.sk-dashed-wrapped {border: 1px dashed gray;margin: 0 0.4em 0.5em 0.4em;box-sizing: border-box;padding-bottom: 0.4em;background-color: white;}#sk-container-id-1 div.sk-label label {font-family: monospace;font-weight: bold;display: inline-block;line-height: 1.2em;}#sk-container-id-1 div.sk-label-container {text-align: center;}#sk-container-id-1 div.sk-container {/* jupyter's `normalize.less` sets `[hidden] { display: none; }` but bootstrap.min.css set `[hidden] { display: none !important; }` so we also need the `!important` here to be able to override the default hidden behavior on the sphinx rendered scikit-learn.org. See: https://github.com/scikit-learn/scikit-learn/issues/21755 */display: inline-block !important;position: relative;}#sk-container-id-1 div.sk-text-repr-fallback {display: none;}</style><div id=\"sk-container-id-1\" class=\"sk-top-container\"><div class=\"sk-text-repr-fallback\"><pre>Lasso(alpha=0.1)</pre><b>In a Jupyter environment, please rerun this cell to show the HTML representation or trust the notebook. <br />On GitHub, the HTML representation is unable to render, please try loading this page with nbviewer.org.</b></div><div class=\"sk-container\" hidden><div class=\"sk-item\"><div class=\"sk-estimator sk-toggleable\"><input class=\"sk-toggleable__control sk-hidden--visually\" id=\"sk-estimator-id-1\" type=\"checkbox\" checked><label for=\"sk-estimator-id-1\" class=\"sk-toggleable__label sk-toggleable__label-arrow\">Lasso</label><div class=\"sk-toggleable__content\"><pre>Lasso(alpha=0.1)</pre></div></div></div></div></div>"
            ]
          },
          "metadata": {},
          "execution_count": 251
        }
      ]
    },
    {
      "cell_type": "code",
      "source": [
        "\n",
        "# Predict the target values for the test data\n",
        "y_pred = lasso_reg.predict(X_test)"
      ],
      "metadata": {
        "id": "x6DaIApUFxsJ"
      },
      "execution_count": null,
      "outputs": []
    },
    {
      "cell_type": "code",
      "source": [
        "# Compute the mean squared error of the predictions\n",
        "mse = mean_squared_error(y_test, y_pred)\n",
        "print(\"Mean squared error:\", mse)"
      ],
      "metadata": {
        "colab": {
          "base_uri": "https://localhost:8080/"
        },
        "id": "yYP4C59VFz8H",
        "outputId": "70c3419d-8ebe-400f-d7d8-fb2b1ff76e3c"
      },
      "execution_count": null,
      "outputs": [
        {
          "output_type": "stream",
          "name": "stdout",
          "text": [
            "Mean squared error: 0.0803005775628027\n"
          ]
        }
      ]
    },
    {
      "cell_type": "code",
      "source": [
        "#Root mean square error.\n",
        "score = r2_score(y_test, y_pred)\n",
        "print(\"The r2_score of the trained model\", score)"
      ],
      "metadata": {
        "colab": {
          "base_uri": "https://localhost:8080/"
        },
        "id": "KvnGzK9LF2pM",
        "outputId": "d57b0f10-bc83-451c-a00d-33948bee2baa"
      },
      "execution_count": null,
      "outputs": [
        {
          "output_type": "stream",
          "name": "stdout",
          "text": [
            "The r2_score of the trained model 0.9999960815299104\n"
          ]
        }
      ]
    },
    {
      "cell_type": "code",
      "source": [],
      "metadata": {
        "id": "QvITJl8WRe09"
      },
      "execution_count": null,
      "outputs": []
    },
    {
      "cell_type": "code",
      "source": [],
      "metadata": {
        "id": "eaRipzb_RexO"
      },
      "execution_count": null,
      "outputs": []
    },
    {
      "cell_type": "code",
      "source": [],
      "metadata": {
        "id": "l-GWxfyGReuY"
      },
      "execution_count": null,
      "outputs": []
    },
    {
      "cell_type": "code",
      "source": [],
      "metadata": {
        "id": "j3LXG6JsRer_"
      },
      "execution_count": null,
      "outputs": []
    },
    {
      "cell_type": "code",
      "source": [],
      "metadata": {
        "id": "V8iFBr2ORepa"
      },
      "execution_count": null,
      "outputs": []
    },
    {
      "cell_type": "code",
      "source": [],
      "metadata": {
        "id": "lcbHGCXJRemx"
      },
      "execution_count": null,
      "outputs": []
    }
  ]
}